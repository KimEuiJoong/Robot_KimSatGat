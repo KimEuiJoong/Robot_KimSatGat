{
 "cells": [
  {
   "cell_type": "code",
   "execution_count": 1,
   "metadata": {},
   "outputs": [
    {
     "name": "stdout",
     "output_type": "stream",
     "text": [
      "[['선생', '서덕출', '학교', '마한', '학생', '집', '선', '말', '선생', '동무', '서넛', '놓고', '가르치는', '선생'], ['노래', '짓밟힌', '무리', '흘린', '핏', '방울', '방울', '이지', '심', '흘러', '흘러', '폭발', '새', '화산', '새', '세기', '화산', '북방', '솟은', '새', '히말라야', '산', '소비에트', '공화국', '낡은', '제도', '골짜기', '무너졌다', '온', '세계', '바다', '끓는', '소비에트', '공화국', '거룩', '탄생', '여자', '라나', '힘', '걸음', '걸음', '열네', '해', '맞는', '날', '아침', '맑은', '햇빛', '날려라', '붉은', '깃발', '울려라', '승리', '쇠북', '만국', '승냥이', '갈며', '떤다', '떤다', '사자', '새', '화산', '아들', '건장', '무', '리야', '원수', '향', '소리', '동무', '불러', '소리', '한층', '만세', '만세', '손', '망치', '고우리', '발', '바퀴', '굴', '린다', '어깨', '총', '메', '고우리', '머리', '위엔', '새', '태양', '과학', '빛난다이', '리하', '건설', '쉬일', '날', '고우리', '무장', '원수', '물리', '만다', '망치', '힘', '있게', '내려', '바퀴', '빨리', '태양', '빛나게', '내리', '걸음', '시가', '고우리', '팔다리', '힘줄']]\n",
      "0       6\n",
      "1       9\n",
      "2      12\n",
      "3       9\n",
      "4      14\n",
      "       ..\n",
      "463    12\n",
      "464     1\n",
      "465     0\n",
      "466     4\n",
      "467    15\n",
      "Length: 468, dtype: object\n",
      "['기쁨', '즐거움', '사랑1', '사랑2', '희망', '활기', '순수', '잔잔', '슬픔', '의지', '그리움1', '그리움2', '무심', '고독', '불안', '성찰', '불용']\n"
     ]
    }
   ],
   "source": [
    "#1\n",
    "#시, 태그 데이터 불러오기\n",
    "import pandas as pd\n",
    "%matplotlib inline\n",
    "import matplotlib.pyplot as plt\n",
    "from tensorflow.keras.preprocessing.text import Tokenizer\n",
    "from tensorflow.keras.utils import to_categorical\n",
    "import pickle\n",
    "\n",
    "with open('C:\\DeepLearing\\Robot_KSG\\Softmax_Regression\\poems_token_MLP', 'rb') as fr:\n",
    "    poems_token = pickle.load(fr)\n",
    "with open('C:\\DeepLearing\\Robot_KSG\\Softmax_Regression\\poemIndex_intTag', 'rb') as fr:\n",
    "    poems_tag = pickle.load(fr)\n",
    "with open('C:\\DeepLearing\\Robot_KSG\\Softmax_Regression\\\\tagList', 'rb') as fr:\n",
    "    tagList = pickle.load(fr) #정수-태그 데이터\n",
    "\n",
    "print(poems_token[:2])\n",
    "print(poems_tag)\n",
    "print(tagList)"
   ]
  },
  {
   "cell_type": "code",
   "execution_count": 27,
   "metadata": {},
   "outputs": [
    {
     "name": "stdout",
     "output_type": "stream",
     "text": [
      "<class 'str'>\n"
     ]
    }
   ],
   "source": [
    "print(type(str(poems_token[0])))"
   ]
  },
  {
   "cell_type": "code",
   "execution_count": 6,
   "metadata": {},
   "outputs": [
    {
     "data": {
      "text/plain": [
       "pandas.core.series.Series"
      ]
     },
     "execution_count": 6,
     "metadata": {},
     "output_type": "execute_result"
    }
   ],
   "source": [
    "type(poems_tag)"
   ]
  },
  {
   "cell_type": "code",
   "execution_count": 13,
   "metadata": {},
   "outputs": [
    {
     "data": {
      "text/plain": [
       "\"['선생', '서덕출', '학교', '마한', '학생', '집', '선', '말', '선생', '동무', '서넛', '놓고', '가르치는', '선생']\""
      ]
     },
     "execution_count": 13,
     "metadata": {},
     "output_type": "execute_result"
    }
   ],
   "source": [
    "str(poems_token[0])"
   ]
  },
  {
   "cell_type": "code",
   "execution_count": 48,
   "metadata": {},
   "outputs": [
    {
     "data": {
      "text/plain": [
       "'선생, 서덕출, 학교, 마한, 학생, 집, 선, 말, 선생, 동무, 서넛, 놓고, 가르치는, 선생'"
      ]
     },
     "execution_count": 48,
     "metadata": {},
     "output_type": "execute_result"
    }
   ],
   "source": [
    "a = str(poems_token[0]).replace(\"[\",\"\").replace(\"]\",\"\").replace(\"'\",\"\")\n",
    "a"
   ]
  },
  {
   "cell_type": "code",
   "execution_count": 3,
   "metadata": {},
   "outputs": [
    {
     "data": {
      "text/html": [
       "<div>\n",
       "<style scoped>\n",
       "    .dataframe tbody tr th:only-of-type {\n",
       "        vertical-align: middle;\n",
       "    }\n",
       "\n",
       "    .dataframe tbody tr th {\n",
       "        vertical-align: top;\n",
       "    }\n",
       "\n",
       "    .dataframe thead th {\n",
       "        text-align: right;\n",
       "    }\n",
       "</style>\n",
       "<table border=\"1\" class=\"dataframe\">\n",
       "  <thead>\n",
       "    <tr style=\"text-align: right;\">\n",
       "      <th></th>\n",
       "      <th>poem</th>\n",
       "      <th>tag</th>\n",
       "    </tr>\n",
       "  </thead>\n",
       "  <tbody>\n",
       "    <tr>\n",
       "      <th>0</th>\n",
       "      <td>선생, 서덕출, 학교, 마한, 학생, 집, 선, 말, 선생, 동무, 서넛, 놓고, ...</td>\n",
       "      <td>6</td>\n",
       "    </tr>\n",
       "    <tr>\n",
       "      <th>1</th>\n",
       "      <td>노래, 짓밟힌, 무리, 흘린, 핏, 방울, 방울, 이지, 심, 흘러, 흘러, 폭발,...</td>\n",
       "      <td>9</td>\n",
       "    </tr>\n",
       "    <tr>\n",
       "      <th>2</th>\n",
       "      <td>깨끗한, 서나, 몸부림, 쳐도, 소용, 없다, 공간, 들려오는, 공포, 소리, 좁은...</td>\n",
       "      <td>12</td>\n",
       "    </tr>\n",
       "    <tr>\n",
       "      <th>3</th>\n",
       "      <td>사를, 퍼트, 린, 드시, 밤, 마음, 정이, 보려는, 눈, 방울, 이의, 점, 유...</td>\n",
       "      <td>9</td>\n",
       "    </tr>\n",
       "    <tr>\n",
       "      <th>4</th>\n",
       "      <td>찬, 새벽, 고동, 잠들은, 이을, 흔들어, 눈, 사람, 잠, 요란, 히든, 밤, ...</td>\n",
       "      <td>14</td>\n",
       "    </tr>\n",
       "  </tbody>\n",
       "</table>\n",
       "</div>"
      ],
      "text/plain": [
       "                                                poem tag\n",
       "0  선생, 서덕출, 학교, 마한, 학생, 집, 선, 말, 선생, 동무, 서넛, 놓고, ...   6\n",
       "1  노래, 짓밟힌, 무리, 흘린, 핏, 방울, 방울, 이지, 심, 흘러, 흘러, 폭발,...   9\n",
       "2  깨끗한, 서나, 몸부림, 쳐도, 소용, 없다, 공간, 들려오는, 공포, 소리, 좁은...  12\n",
       "3  사를, 퍼트, 린, 드시, 밤, 마음, 정이, 보려는, 눈, 방울, 이의, 점, 유...   9\n",
       "4  찬, 새벽, 고동, 잠들은, 이을, 흔들어, 눈, 사람, 잠, 요란, 히든, 밤, ...  14"
      ]
     },
     "execution_count": 3,
     "metadata": {},
     "output_type": "execute_result"
    }
   ],
   "source": [
    "#2\n",
    "#DataFrame으로 변환(머신러닝 전 데이터 분석용)\n",
    "poems_tokens = []\n",
    "for poem in poems_token:\n",
    "    poems_tokens.append(str(poem).replace(\"[\",\"\").replace(\"]\",\"\").replace(\"'\",\"\"))\n",
    "\n",
    "poem_tag = pd.DataFrame(poems_tokens, columns = ['poem'])\n",
    "poem_tag['tag'] = pd.Series(poems_tag)\n",
    "poem_tag.dropna(axis=0, inplace=True) #태그 없는 데이터 제거\n",
    "\n",
    "poem_tag[:5]"
   ]
  },
  {
   "cell_type": "code",
   "execution_count": 3,
   "metadata": {},
   "outputs": [
    {
     "name": "stdout",
     "output_type": "stream",
     "text": [
      "<class 'pandas.core.frame.DataFrame'>\n",
      "Int64Index: 468 entries, 0 to 467\n",
      "Data columns (total 2 columns):\n",
      " #   Column  Non-Null Count  Dtype \n",
      "---  ------  --------------  ----- \n",
      " 0   poem    468 non-null    object\n",
      " 1   tag     468 non-null    object\n",
      "dtypes: object(2)\n",
      "memory usage: 11.0+ KB\n"
     ]
    }
   ],
   "source": [
    "poem_tag.info()"
   ]
  },
  {
   "cell_type": "code",
   "execution_count": 4,
   "metadata": {},
   "outputs": [
    {
     "name": "stdout",
     "output_type": "stream",
     "text": [
      "중복을 제외한 샘플 수 : 468\n",
      "중복을 제외한 주제의 수 : 17\n"
     ]
    }
   ],
   "source": [
    "print('중복을 제외한 샘플 수 : {}'.format(poem_tag['poem'].nunique()))\n",
    "print('중복을 제외한 주제의 수 : {}'.format(poem_tag['tag'].nunique()))"
   ]
  },
  {
   "cell_type": "code",
   "execution_count": 5,
   "metadata": {},
   "outputs": [
    {
     "data": {
      "text/plain": [
       "<AxesSubplot:>"
      ]
     },
     "execution_count": 5,
     "metadata": {},
     "output_type": "execute_result"
    },
    {
     "data": {
      "image/png": "[encoded data removed]",
      "text/plain": [
       "<Figure size 432x288 with 1 Axes>"
      ]
     },
     "metadata": {
      "needs_background": "light"
     },
     "output_type": "display_data"
    }
   ],
   "source": [
    "poem_tag['tag'].value_counts().plot(kind='bar')"
   ]
  },
  {
   "cell_type": "code",
   "execution_count": 6,
   "metadata": {},
   "outputs": [
    {
     "data": {
      "text/plain": [
       "8     70\n",
       "10    34\n",
       "12    32\n",
       "4     30\n",
       "7     29\n",
       "0     29\n",
       "6     28\n",
       "16    28\n",
       "2     27\n",
       "3     22\n",
       "11    21\n",
       "13    21\n",
       "5     21\n",
       "14    20\n",
       "1     20\n",
       "9     19\n",
       "15    17\n",
       "Name: tag, dtype: int64"
      ]
     },
     "execution_count": 6,
     "metadata": {},
     "output_type": "execute_result"
    }
   ],
   "source": [
    "poem_tag['tag'].value_counts()"
   ]
  },
  {
   "cell_type": "code",
   "execution_count": 7,
   "metadata": {},
   "outputs": [
    {
     "data": {
      "text/plain": [
       "0    선생, 서덕출, 학교, 마한, 학생, 집, 선, 말, 선생, 동무, 서넛, 놓고, ...\n",
       "1    노래, 짓밟힌, 무리, 흘린, 핏, 방울, 방울, 이지, 심, 흘러, 흘러, 폭발,...\n",
       "2    깨끗한, 서나, 몸부림, 쳐도, 소용, 없다, 공간, 들려오는, 공포, 소리, 좁은...\n",
       "3    사를, 퍼트, 린, 드시, 밤, 마음, 정이, 보려는, 눈, 방울, 이의, 점, 유...\n",
       "4    찬, 새벽, 고동, 잠들은, 이을, 흔들어, 눈, 사람, 잠, 요란, 히든, 밤, ...\n",
       "Name: poem, dtype: object"
      ]
     },
     "execution_count": 7,
     "metadata": {},
     "output_type": "execute_result"
    }
   ],
   "source": [
    "poem_tag['poem'].iloc[0:5] "
   ]
  },
  {
   "cell_type": "code",
   "execution_count": 25,
   "metadata": {},
   "outputs": [
    {
     "data": {
      "text/html": [
       "<div>\n",
       "<style scoped>\n",
       "    .dataframe tbody tr th:only-of-type {\n",
       "        vertical-align: middle;\n",
       "    }\n",
       "\n",
       "    .dataframe tbody tr th {\n",
       "        vertical-align: top;\n",
       "    }\n",
       "\n",
       "    .dataframe thead th {\n",
       "        text-align: right;\n",
       "    }\n",
       "</style>\n",
       "<table border=\"1\" class=\"dataframe\">\n",
       "  <thead>\n",
       "    <tr style=\"text-align: right;\">\n",
       "      <th></th>\n",
       "      <th>poem</th>\n",
       "      <th>tag</th>\n",
       "    </tr>\n",
       "  </thead>\n",
       "  <tbody>\n",
       "    <tr>\n",
       "      <th>0</th>\n",
       "      <td>선생, 서덕출, 학교, 마한, 학생, 집, 선, 말, 선생, 동무, 서넛, 놓고, ...</td>\n",
       "      <td>6</td>\n",
       "    </tr>\n",
       "    <tr>\n",
       "      <th>1</th>\n",
       "      <td>노래, 짓밟힌, 무리, 흘린, 핏, 방울, 방울, 이지, 심, 흘러, 흘러, 폭발,...</td>\n",
       "      <td>9</td>\n",
       "    </tr>\n",
       "    <tr>\n",
       "      <th>2</th>\n",
       "      <td>깨끗한, 서나, 몸부림, 쳐도, 소용, 없다, 공간, 들려오는, 공포, 소리, 좁은...</td>\n",
       "      <td>12</td>\n",
       "    </tr>\n",
       "    <tr>\n",
       "      <th>3</th>\n",
       "      <td>사를, 퍼트, 린, 드시, 밤, 마음, 정이, 보려는, 눈, 방울, 이의, 점, 유...</td>\n",
       "      <td>9</td>\n",
       "    </tr>\n",
       "    <tr>\n",
       "      <th>4</th>\n",
       "      <td>찬, 새벽, 고동, 잠들은, 이을, 흔들어, 눈, 사람, 잠, 요란, 히든, 밤, ...</td>\n",
       "      <td>14</td>\n",
       "    </tr>\n",
       "    <tr>\n",
       "      <th>5</th>\n",
       "      <td>폐가, 제사, 병원, 입원, 도난, 망명, 소문, 철, 늦은, 나비, 보라, 간호,...</td>\n",
       "      <td>14</td>\n",
       "    </tr>\n",
       "    <tr>\n",
       "      <th>6</th>\n",
       "      <td>만가, 불안, 언덕, 로나, 바람, 날려, 간다, 죽, 행복, 차단, 아릴, 수, ...</td>\n",
       "      <td>15</td>\n",
       "    </tr>\n",
       "    <tr>\n",
       "      <th>7</th>\n",
       "      <td>그날, 대피, 시달린, 몸, 짜, 작, 짜, 작, 균, 이유, 황, 불, 다지, 옥...</td>\n",
       "      <td>4</td>\n",
       "    </tr>\n",
       "    <tr>\n",
       "      <th>8</th>\n",
       "      <td>여자, 유행, 여자, 떠났다, 스스로, 기원, 찾기, 날, 여자, 구름, 환상, 더...</td>\n",
       "      <td>8</td>\n",
       "    </tr>\n",
       "    <tr>\n",
       "      <th>9</th>\n",
       "      <td>즐겁게, 절, 노래, 했던, 해부, 터, 지났다, 절의, 노래, 독립, 있었고, 눈...</td>\n",
       "      <td>10</td>\n",
       "    </tr>\n",
       "  </tbody>\n",
       "</table>\n",
       "</div>"
      ],
      "text/plain": [
       "                                                poem tag\n",
       "0  선생, 서덕출, 학교, 마한, 학생, 집, 선, 말, 선생, 동무, 서넛, 놓고, ...   6\n",
       "1  노래, 짓밟힌, 무리, 흘린, 핏, 방울, 방울, 이지, 심, 흘러, 흘러, 폭발,...   9\n",
       "2  깨끗한, 서나, 몸부림, 쳐도, 소용, 없다, 공간, 들려오는, 공포, 소리, 좁은...  12\n",
       "3  사를, 퍼트, 린, 드시, 밤, 마음, 정이, 보려는, 눈, 방울, 이의, 점, 유...   9\n",
       "4  찬, 새벽, 고동, 잠들은, 이을, 흔들어, 눈, 사람, 잠, 요란, 히든, 밤, ...  14\n",
       "5  폐가, 제사, 병원, 입원, 도난, 망명, 소문, 철, 늦은, 나비, 보라, 간호,...  14\n",
       "6  만가, 불안, 언덕, 로나, 바람, 날려, 간다, 죽, 행복, 차단, 아릴, 수, ...  15\n",
       "7  그날, 대피, 시달린, 몸, 짜, 작, 짜, 작, 균, 이유, 황, 불, 다지, 옥...   4\n",
       "8  여자, 유행, 여자, 떠났다, 스스로, 기원, 찾기, 날, 여자, 구름, 환상, 더...   8\n",
       "9  즐겁게, 절, 노래, 했던, 해부, 터, 지났다, 절의, 노래, 독립, 있었고, 눈...  10"
      ]
     },
     "execution_count": 25,
     "metadata": {},
     "output_type": "execute_result"
    }
   ],
   "source": [
    "#3.1\n",
    "#유효 데이터 분리 후 훈련 데이터 / 테스트 데이터 분류\n",
    "train_poem = poem_tag['poem'].iloc[0:401]\n",
    "train_tag = poem_tag['tag'].iloc[0:401]\n",
    "test_poem = poem_tag['poem'].iloc[401:468]\n",
    "test_tag = poem_tag['tag'].iloc[401:469]\n",
    "\n",
    "max_words = 7000 #max_words: 사용할 단어 최대 개수(빈도순, 전체 단어 약 17000개)\n",
    "num_tag = 17\n",
    "\n",
    "poem_tag[:10]"
   ]
  },
  {
   "cell_type": "code",
   "execution_count": 26,
   "metadata": {
    "scrolled": true
   },
   "outputs": [
    {
     "data": {
      "text/plain": [
       "Int64Index([401, 402, 403, 404, 405, 406, 407, 408, 409, 410, 411, 412, 413,\n",
       "            414, 415, 416, 417, 418, 419, 420, 421, 422, 423, 424, 425, 426,\n",
       "            427, 428, 429, 430, 431, 432, 433, 434, 435, 436, 437, 438, 439,\n",
       "            440, 441, 442, 443, 444, 445, 446, 447, 448, 449, 450, 451, 452,\n",
       "            453, 454, 455, 456, 457, 458, 459, 460, 461, 462, 463, 464, 465,\n",
       "            466, 467],\n",
       "           dtype='int64')"
      ]
     },
     "execution_count": 26,
     "metadata": {},
     "output_type": "execute_result"
    }
   ],
   "source": [
    "a = test_tag.index\n",
    "a"
   ]
  },
  {
   "cell_type": "code",
   "execution_count": 29,
   "metadata": {
    "scrolled": false
   },
   "outputs": [
    {
     "name": "stdout",
     "output_type": "stream",
     "text": [
      "훈련 샘플 본문의 크기 : (401, 7000)\n",
      "훈련 샘플 레이블의 크기 : (401, 17)\n",
      "테스트 샘플 본문의 크기 : (67, 7000)\n",
      "테스트 샘플 레이블의 크기 : (67, 17)\n",
      "빈도수 상위 1위 단어 : 내\n",
      "빈도수 상위 1위 단어 : 초연\n"
     ]
    }
   ],
   "source": [
    "#3.2\n",
    "#케라스 토크나이저로 DTM 생성(4가지 모드 사용 가능)\n",
    "def prepare_data(train_data, test_data, mode):\n",
    "    t = Tokenizer(num_words = max_words)\n",
    "    t.fit_on_texts(train_data)\n",
    "    X_train = t.texts_to_matrix(train_data, mode=mode)\n",
    "    X_test = t.texts_to_matrix(test_data, mode=mode)\n",
    "    \n",
    "    return X_train, X_test, t.index_word, mode\n",
    "\n",
    "modes = ['binary', 'count', 'tfidf', 'freq']\n",
    "\n",
    "X_train, X_test, index_to_word, mode = prepare_data(train_poem, test_poem, modes[0])\n",
    "y_train = to_categorical(train_tag, num_tag)\n",
    "y_test = to_categorical(test_tag, num_tag)\n",
    "\n",
    "print('훈련 샘플 본문의 크기 : {}'.format(X_train.shape))\n",
    "print('훈련 샘플 레이블의 크기 : {}'.format(y_train.shape))\n",
    "print('테스트 샘플 본문의 크기 : {}'.format(X_test.shape))\n",
    "print('테스트 샘플 레이블의 크기 : {}'.format(y_test.shape))\n",
    "print(\"빈도수 상위 1위 단어 : {}\" .format(index_to_word[1]))\n",
    "print(\"빈도수 상위 1위 단어 : {}\" .format(index_to_word[max_words-1]))"
   ]
  },
  {
   "cell_type": "code",
   "execution_count": 31,
   "metadata": {},
   "outputs": [
    {
     "name": "stdout",
     "output_type": "stream",
     "text": [
      "Train on 360 samples, validate on 41 samples\n",
      "Epoch 1/50\n",
      "360/360 [==============================] - 1s 2ms/sample - loss: 2.8599 - accuracy: 0.0472 - val_loss: 2.8382 - val_accuracy: 0.0244\n",
      "Epoch 2/50\n",
      "360/360 [==============================] - 0s 225us/sample - loss: 2.6588 - accuracy: 0.2889 - val_loss: 2.8264 - val_accuracy: 0.0488\n",
      "Epoch 3/50\n",
      "360/360 [==============================] - 0s 228us/sample - loss: 2.4898 - accuracy: 0.5639 - val_loss: 2.8175 - val_accuracy: 0.0732\n",
      "Epoch 4/50\n",
      "360/360 [==============================] - 0s 256us/sample - loss: 2.3262 - accuracy: 0.7111 - val_loss: 2.8087 - val_accuracy: 0.0976\n",
      "Epoch 5/50\n",
      "360/360 [==============================] - 0s 247us/sample - loss: 2.1642 - accuracy: 0.7778 - val_loss: 2.8015 - val_accuracy: 0.0976\n",
      "Epoch 6/50\n",
      "360/360 [==============================] - 0s 250us/sample - loss: 2.0157 - accuracy: 0.8778 - val_loss: 2.7975 - val_accuracy: 0.0976\n",
      "Epoch 7/50\n",
      "360/360 [==============================] - 0s 259us/sample - loss: 1.8137 - accuracy: 0.9056 - val_loss: 2.7949 - val_accuracy: 0.0976\n",
      "Epoch 8/50\n",
      "360/360 [==============================] - 0s 243us/sample - loss: 1.6590 - accuracy: 0.9194 - val_loss: 2.7945 - val_accuracy: 0.0976\n",
      "Epoch 9/50\n",
      "360/360 [==============================] - 0s 240us/sample - loss: 1.5083 - accuracy: 0.9444 - val_loss: 2.7940 - val_accuracy: 0.0976\n",
      "Epoch 10/50\n",
      "360/360 [==============================] - 0s 226us/sample - loss: 1.3389 - accuracy: 0.9583 - val_loss: 2.7935 - val_accuracy: 0.0976\n",
      "Epoch 11/50\n",
      "360/360 [==============================] - 0s 227us/sample - loss: 1.2090 - accuracy: 0.9583 - val_loss: 2.7949 - val_accuracy: 0.0976\n",
      "Epoch 12/50\n",
      "360/360 [==============================] - 0s 224us/sample - loss: 1.0688 - accuracy: 0.9778 - val_loss: 2.7970 - val_accuracy: 0.0976\n",
      "Epoch 13/50\n",
      "360/360 [==============================] - 0s 223us/sample - loss: 0.9647 - accuracy: 0.9833 - val_loss: 2.8002 - val_accuracy: 0.0976\n",
      "Epoch 14/50\n",
      "360/360 [==============================] - 0s 228us/sample - loss: 0.8632 - accuracy: 0.9889 - val_loss: 2.8027 - val_accuracy: 0.0976\n",
      "Epoch 15/50\n",
      "360/360 [==============================] - 0s 223us/sample - loss: 0.7667 - accuracy: 0.9861 - val_loss: 2.8064 - val_accuracy: 0.0976\n",
      "Epoch 16/50\n",
      "360/360 [==============================] - 0s 240us/sample - loss: 0.6868 - accuracy: 0.9944 - val_loss: 2.8082 - val_accuracy: 0.0976\n",
      "Epoch 17/50\n",
      "360/360 [==============================] - 0s 261us/sample - loss: 0.5927 - accuracy: 0.9972 - val_loss: 2.8082 - val_accuracy: 0.0976\n",
      "Epoch 18/50\n",
      "360/360 [==============================] - 0s 244us/sample - loss: 0.5210 - accuracy: 1.0000 - val_loss: 2.8091 - val_accuracy: 0.0732\n",
      "Epoch 19/50\n",
      "360/360 [==============================] - 0s 236us/sample - loss: 0.4464 - accuracy: 1.0000 - val_loss: 2.8099 - val_accuracy: 0.0976\n",
      "Epoch 20/50\n",
      "360/360 [==============================] - 0s 261us/sample - loss: 0.4274 - accuracy: 0.9972 - val_loss: 2.8113 - val_accuracy: 0.0976\n",
      "Epoch 21/50\n",
      "360/360 [==============================] - 0s 241us/sample - loss: 0.3658 - accuracy: 1.0000 - val_loss: 2.8135 - val_accuracy: 0.0976\n",
      "Epoch 22/50\n",
      "360/360 [==============================] - 0s 264us/sample - loss: 0.3350 - accuracy: 0.9972 - val_loss: 2.8152 - val_accuracy: 0.0976\n",
      "Epoch 23/50\n",
      "360/360 [==============================] - 0s 283us/sample - loss: 0.2972 - accuracy: 0.9944 - val_loss: 2.8177 - val_accuracy: 0.0976\n",
      "Epoch 24/50\n",
      "360/360 [==============================] - 0s 306us/sample - loss: 0.2716 - accuracy: 1.0000 - val_loss: 2.8201 - val_accuracy: 0.0976\n",
      "Epoch 25/50\n",
      "360/360 [==============================] - 0s 253us/sample - loss: 0.2465 - accuracy: 0.9972 - val_loss: 2.8234 - val_accuracy: 0.0976\n",
      "Epoch 26/50\n",
      "360/360 [==============================] - 0s 314us/sample - loss: 0.2192 - accuracy: 0.9972 - val_loss: 2.8263 - val_accuracy: 0.0976\n",
      "Epoch 27/50\n",
      "360/360 [==============================] - 0s 294us/sample - loss: 0.2056 - accuracy: 1.0000 - val_loss: 2.8285 - val_accuracy: 0.0976\n",
      "Epoch 28/50\n",
      "360/360 [==============================] - 0s 238us/sample - loss: 0.1686 - accuracy: 1.0000 - val_loss: 2.8310 - val_accuracy: 0.0976\n",
      "Epoch 29/50\n",
      "360/360 [==============================] - 0s 272us/sample - loss: 0.1633 - accuracy: 1.0000 - val_loss: 2.8339 - val_accuracy: 0.0976\n",
      "Epoch 30/50\n",
      "360/360 [==============================] - 0s 286us/sample - loss: 0.1457 - accuracy: 1.0000 - val_loss: 2.8368 - val_accuracy: 0.0976\n",
      "Epoch 31/50\n",
      "360/360 [==============================] - 0s 264us/sample - loss: 0.1395 - accuracy: 1.0000 - val_loss: 2.8390 - val_accuracy: 0.0976\n",
      "Epoch 32/50\n",
      "360/360 [==============================] - 0s 261us/sample - loss: 0.1150 - accuracy: 1.0000 - val_loss: 2.8414 - val_accuracy: 0.0976\n",
      "Epoch 33/50\n",
      "360/360 [==============================] - 0s 292us/sample - loss: 0.1171 - accuracy: 1.0000 - val_loss: 2.8449 - val_accuracy: 0.0976\n",
      "Epoch 34/50\n",
      "360/360 [==============================] - 0s 267us/sample - loss: 0.1035 - accuracy: 1.0000 - val_loss: 2.8484 - val_accuracy: 0.0976\n",
      "Epoch 35/50\n",
      "360/360 [==============================] - 0s 238us/sample - loss: 0.1068 - accuracy: 1.0000 - val_loss: 2.8516 - val_accuracy: 0.0976\n",
      "Epoch 36/50\n",
      "360/360 [==============================] - 0s 227us/sample - loss: 0.0961 - accuracy: 0.9972 - val_loss: 2.8553 - val_accuracy: 0.0732\n",
      "Epoch 37/50\n",
      "360/360 [==============================] - 0s 219us/sample - loss: 0.0853 - accuracy: 1.0000 - val_loss: 2.8595 - val_accuracy: 0.0732\n",
      "Epoch 38/50\n",
      "360/360 [==============================] - 0s 226us/sample - loss: 0.0861 - accuracy: 1.0000 - val_loss: 2.8638 - val_accuracy: 0.0732\n",
      "Epoch 39/50\n",
      "360/360 [==============================] - 0s 225us/sample - loss: 0.0766 - accuracy: 1.0000 - val_loss: 2.8683 - val_accuracy: 0.0732\n",
      "Epoch 40/50\n",
      "360/360 [==============================] - 0s 225us/sample - loss: 0.0738 - accuracy: 1.0000 - val_loss: 2.8733 - val_accuracy: 0.0732\n",
      "Epoch 41/50\n",
      "360/360 [==============================] - 0s 233us/sample - loss: 0.0662 - accuracy: 1.0000 - val_loss: 2.8783 - val_accuracy: 0.0732\n",
      "Epoch 42/50\n",
      "360/360 [==============================] - 0s 251us/sample - loss: 0.0619 - accuracy: 1.0000 - val_loss: 2.8827 - val_accuracy: 0.0732\n",
      "Epoch 43/50\n",
      "360/360 [==============================] - 0s 236us/sample - loss: 0.0661 - accuracy: 1.0000 - val_loss: 2.8870 - val_accuracy: 0.0732\n",
      "Epoch 44/50\n",
      "360/360 [==============================] - 0s 221us/sample - loss: 0.0531 - accuracy: 1.0000 - val_loss: 2.8922 - val_accuracy: 0.0732\n",
      "Epoch 45/50\n",
      "360/360 [==============================] - 0s 245us/sample - loss: 0.0635 - accuracy: 1.0000 - val_loss: 2.8956 - val_accuracy: 0.0732\n",
      "Epoch 46/50\n",
      "360/360 [==============================] - 0s 220us/sample - loss: 0.0514 - accuracy: 1.0000 - val_loss: 2.8983 - val_accuracy: 0.0732\n",
      "Epoch 47/50\n",
      "360/360 [==============================] - 0s 249us/sample - loss: 0.0474 - accuracy: 1.0000 - val_loss: 2.9013 - val_accuracy: 0.0732\n",
      "Epoch 48/50\n",
      "360/360 [==============================] - 0s 247us/sample - loss: 0.0522 - accuracy: 1.0000 - val_loss: 2.9045 - val_accuracy: 0.0732\n",
      "Epoch 49/50\n",
      "360/360 [==============================] - 0s 234us/sample - loss: 0.0488 - accuracy: 1.0000 - val_loss: 2.9071 - val_accuracy: 0.0976\n",
      "Epoch 50/50\n",
      "360/360 [==============================] - 0s 239us/sample - loss: 0.0389 - accuracy: 1.0000 - val_loss: 2.9096 - val_accuracy: 0.0976\n",
      "binary모드의 테스트 정확도: 0.05970149\n"
     ]
    }
   ],
   "source": [
    "#4.1\n",
    "#MLP 모델 설계 + 학습 + 자체평가\n",
    "from tensorflow.keras.models import Sequential\n",
    "from tensorflow.keras.layers import Dense, Dropout\n",
    "\n",
    "model = Sequential() \n",
    "model.add(Dense(128, input_shape=(max_words,), activation='relu'))\n",
    "model.add(Dropout(0.5)) #과적합 방지\n",
    "#model.add(Dense(32, activation='relu'))\n",
    "#model.add(Dropout(0.5))\n",
    "#modle.add(Dense()) 후에 적절한 층 추가해서 DNN로 변환(딥러닝)\n",
    "model.add(Dense(num_tag, activation='softmax'))\n",
    "\n",
    "model.compile(loss='categorical_crossentropy', optimizer='adam', metrics=['accuracy'])\n",
    "model.fit(X_train, y_train, batch_size=128, epochs=50, verbose=1, validation_split=0.1)\n",
    "\n",
    "score = model.evaluate(X_test, y_test, batch_size=128, verbose=0)\n",
    "\n",
    "print(mode+\"모드의 테스트 정확도:\", score[1])"
   ]
  },
  {
   "cell_type": "code",
   "execution_count": null,
   "metadata": {},
   "outputs": [],
   "source": []
  },
  {
   "cell_type": "code",
   "execution_count": 32,
   "metadata": {},
   "outputs": [
    {
     "data": {
      "text/plain": [
       "array([0.03404726, 0.00308799, 0.00522696, 0.00470902, 0.04100073,\n",
       "       0.02461892, 0.09918185, 0.0220919 , 0.2540326 , 0.02165456,\n",
       "       0.05591261, 0.00660126, 0.03839343, 0.03394693, 0.01167691,\n",
       "       0.00668148, 0.3371356 ], dtype=float32)"
      ]
     },
     "execution_count": 32,
     "metadata": {},
     "output_type": "execute_result"
    }
   ],
   "source": [
    "#4.2\n",
    "#모델 평가(새로운 데이터로)\n",
    "\n",
    "#Softmax Regression(Practice)문서 참조\n",
    "arr = model.predict(X_test, batch_size=1)\n",
    "arr[4]"
   ]
  },
  {
   "cell_type": "code",
   "execution_count": 33,
   "metadata": {
    "scrolled": true
   },
   "outputs": [
    {
     "data": {
      "text/plain": [
       "401    민요, 질, 말, 수천, 밖, 돈, 가자, 시어머니, 죽으, 축원, 했, 보리, 방...\n",
       "402    경부, 노래, 토, 난기, 적, 소리, 남대문, 나나, 부, 바람, 형세, 갓흐, ...\n",
       "403    삼복, 지나, 반, 도모, 감, 러하, 타, 리오, 늘, 부산, 튼, 대구, 간다,...\n",
       "404    십이월, 십, 구일, 양, 갑, 일동, 오늘날, 사람, 누굴까, 낙, 웃으, 홀로,...\n",
       "405    경, 인제, 송이, 올케, 왔, 객, 해하, 얼골, 보소, 마음, 무, 함, 돌혀,...\n",
       "                             ...                        \n",
       "463    고정, 오이, 작, 은정, 원, 비, 개, 해, 뜨니, 여기저기, 줄이, 시작, 행...\n",
       "464    고초, 당초, 맵, 다한, 객사, 들보, 남글, 아우, 품, 안, 어린, 낭군, 믿...\n",
       "465    꽃, 피지, 않은, 폐허, 지나, 썩어, 돌비, 풀, 이끼, 가려, 김, 서방, 서...\n",
       "466    고추, 권태, 고추, 야만, 고추, 웁, 고추, 야만, 고추, 웁, 다예, 주, 아...\n",
       "467    고추, 밭, 저작, 연전, 시들은, 잎새, 속, 빠알간, 살, 드러내, 놓고, 고추...\n",
       "Name: poem, Length: 67, dtype: object"
      ]
     },
     "execution_count": 33,
     "metadata": {},
     "output_type": "execute_result"
    }
   ],
   "source": [
    "test_poem"
   ]
  },
  {
   "cell_type": "code",
   "execution_count": 34,
   "metadata": {},
   "outputs": [
    {
     "data": {
      "text/plain": [
       "'경, 인제, 송이, 올케, 왔, 객, 해하, 얼골, 보소, 마음, 무, 함, 돌혀, 무참, 할시고, 남, 하얏, 그림자, 밤, 살, 지니, 인제, 살, 먹어, 짐, 앙탈, 오해, 세, 쇠, 날, 내년, 하지, 그해, 나하, 본적, 인제, 머리털, 세, 이러, 할시, 고가, 소서, 소서, 밤, 소서, 겨레, 나라, 싹싹, 씨, 소서, 업, 새는, 밤, 일가, 라이, 소원, 스리, 오물, 들고, 더러, 국, 씨, 쳐서, 업도, 록, 하게, 합세, 닙, 은동, 무, 손, 잡고, 오락가락, 말굽, 밋헤, 밟히는, 서울, 서얼, 경황, 잇다, 리오, 서울, 명, 전국, 치면, 천만, 상이, 피난민, 오늘, 모양, 일가, 술, 업다, 국, 업다, 말, 오이, 생각, 생각, 밤, 몰랏, 슬사, 긴, 한숨, 휘, 쉬, 미, 다지, 열, 쓸쓸히, 개인, 하늘, 별도, 총총, 라일, 구, 오일, 일월, 미, 발표'"
      ]
     },
     "execution_count": 34,
     "metadata": {},
     "output_type": "execute_result"
    }
   ],
   "source": [
    "test_poem[test_poem.index[4]]"
   ]
  },
  {
   "cell_type": "code",
   "execution_count": null,
   "metadata": {},
   "outputs": [],
   "source": []
  }
 ],
 "metadata": {
  "kernelspec": {
   "display_name": "Python 3",
   "language": "python",
   "name": "python3"
  },
  "language_info": {
   "codemirror_mode": {
    "name": "ipython",
    "version": 3
   },
   "file_extension": ".py",
   "mimetype": "text/x-python",
   "name": "python",
   "nbconvert_exporter": "python",
   "pygments_lexer": "ipython3",
   "version": "3.7.4"
  }
 },
 "nbformat": 4,
 "nbformat_minor": 2
}
