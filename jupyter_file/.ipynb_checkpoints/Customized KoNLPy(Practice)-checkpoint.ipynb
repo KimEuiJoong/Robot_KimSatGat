{
 "cells": [
  {
   "cell_type": "code",
   "execution_count": 45,
   "metadata": {},
   "outputs": [
    {
     "name": "stdout",
     "output_type": "stream",
     "text": [
      "{'Modifier': {'우리', '이', '이번'}, 'Noun': {'아이', '것', '아이오아이', '번것', '행사'}, 'Josa': {'는', '은'}}\n"
     ]
    }
   ],
   "source": [
    "import ckonlpy\n",
    "from ckonlpy.tag import Twitter\n",
    "\n",
    "twitter = Twitter(use_twitter_dictionary=False)\n",
    "\n",
    "twitter.add_dictionary('이', 'Modifier')\n",
    "twitter.add_dictionary('우리', 'Modifier')\n",
    "twitter.add_dictionary('이번', 'Modifier')\n",
    "twitter.add_dictionary('아이오아이', 'Noun')\n",
    "twitter.add_dictionary('행사', 'Noun')\n",
    "twitter.add_dictionary('아이', 'Noun')\n",
    "twitter.add_dictionary('번것', 'Noun')\n",
    "twitter.add_dictionary('것', 'Noun')\n",
    "twitter.add_dictionary(['은', '는'], 'Josa')\n",
    "#twitter.add_dictionary('윤동주', '시인', force=True)\n",
    "\n",
    "if twitter.use_twitter_dictionary:\n",
    "    print(twitter.dictionary._pos2words.keys())\n",
    "else:\n",
    "    print(twitter.dictionary._pos2words)"
   ]
  },
  {
   "cell_type": "code",
   "execution_count": 42,
   "metadata": {},
   "outputs": [
    {
     "data": {
      "text/plain": [
       "[('우리', 'Noun'),\n",
       " ('아이오아이', 'Noun'),\n",
       " ('는', 'Josa'),\n",
       " ('정말', 'Noun'),\n",
       " ('이뻐요', 'Adjective')]"
      ]
     },
     "execution_count": 42,
     "metadata": {},
     "output_type": "execute_result"
    }
   ],
   "source": [
    "twitter.pos('우리 아이오아이는 정말 이뻐요')"
   ]
  },
  {
   "cell_type": "code",
   "execution_count": 49,
   "metadata": {},
   "outputs": [
    {
     "data": {
      "text/plain": [
       "512"
      ]
     },
     "execution_count": 49,
     "metadata": {},
     "output_type": "execute_result"
    }
   ],
   "source": [
    "twitter1 = Twitter(use_twitter_dictionary=True)\n",
    "len(twitter1.dictionary._pos2words['Josa'])"
   ]
  },
  {
   "cell_type": "code",
   "execution_count": 50,
   "metadata": {},
   "outputs": [
    {
     "data": {
      "text/plain": [
       "[('Adjective',),\n",
       " ('Adverb',),\n",
       " ('Conjunction',),\n",
       " ('Exclamation',),\n",
       " ('KoreanParticle',),\n",
       " ('Noun',),\n",
       " ('Verb',),\n",
       " ('Noun', 'Noun'),\n",
       " ('Noun', 'Josa'),\n",
       " ('Noun', 'Adjective'),\n",
       " ('Noun', 'Verb'),\n",
       " ('Modifier', 'Noun'),\n",
       " ('Noun', 'Noun', 'Adjective'),\n",
       " ('Noun', 'Noun', 'Josa'),\n",
       " ('Noun', 'Noun', 'Verb'),\n",
       " ('Modifier', 'Noun', 'Josa')]"
      ]
     },
     "execution_count": 50,
     "metadata": {},
     "output_type": "execute_result"
    }
   ],
   "source": [
    "twitter.template_tagger.templates #템플릿 기반 토크나이저"
   ]
  },
  {
   "cell_type": "code",
   "execution_count": 53,
   "metadata": {},
   "outputs": [
    {
     "data": {
      "text/plain": [
       "{'Adjective': '형용사',\n",
       " 'Adverb': '부사',\n",
       " 'Alpha': '알파벳',\n",
       " 'Conjunction': '접속사',\n",
       " 'Determiner': '관형사',\n",
       " 'Eomi': '어미',\n",
       " 'Exclamation': '감탄사',\n",
       " 'Foreign': '외국어, 한자 및 기타기호',\n",
       " 'Hashtag': '트위터 해쉬태그',\n",
       " 'Josa': '조사',\n",
       " 'KoreanParticle': '(ex: ㅋㅋ)',\n",
       " 'Noun': '명사',\n",
       " 'Number': '숫자',\n",
       " 'Modifier': '관형사',\n",
       " 'PreEomi': '선어말어미',\n",
       " 'Punctuation': '구두점',\n",
       " 'ScreenName': '트위터 아이디',\n",
       " 'Suffix': '접미사',\n",
       " 'Unknown': '미등록어',\n",
       " 'Verb': '동사'}"
      ]
     },
     "execution_count": 53,
     "metadata": {},
     "output_type": "execute_result"
    }
   ],
   "source": [
    "twitter.tagset #사전 추가시 태그 확인"
   ]
  },
  {
   "cell_type": "code",
   "execution_count": 52,
   "metadata": {},
   "outputs": [],
   "source": [
    "twitter.add_dictionary('lovit', 'Name', force=True) #사전에 없는 태그 입력(템플릿도 자동추가됨)\n"
   ]
  },
  {
   "cell_type": "code",
   "execution_count": 63,
   "metadata": {},
   "outputs": [
    {
     "name": "stdout",
     "output_type": "stream",
     "text": [
      "before: [('우리', 'Modifier'), ('아이오아이', 'Noun'), ('는', 'Josa'), ('정말', 'Noun'), ('이뻐요', 'Adjective')]\n",
      "\n",
      "after: [('아이돌', 'Noun'), ('이뻐요', 'Adjective')]\n"
     ]
    }
   ],
   "source": [
    "from ckonlpy.tag import Postprocessor\n",
    "\n",
    "stopwords = ['는', '정말'] #불용어 지정\n",
    "passtags = ['Noun', 'Adjective'] #특정 품사 지정(여기있는 것만 출력)\n",
    "replace = {'아이오아이': '아이돌'} #치환할 단어 dict형식으로 지정\n",
    "\n",
    "postprocessor = Postprocessor(\n",
    "    base_tagger = twitter,\n",
    "    stopwords = stopwords,\n",
    "    passtags = passtags,\n",
    "    replace = replace\n",
    ")\n",
    "\n",
    "text = '우리아이오아이는 정말 이뻐요'\n",
    "print('before: %s\\n' % twitter.pos(text))\n",
    "print('after: %s' % postprocessor.pos(text))"
   ]
  },
  {
   "cell_type": "code",
   "execution_count": null,
   "metadata": {},
   "outputs": [],
   "source": []
  }
 ],
 "metadata": {
  "kernelspec": {
   "display_name": "Python 3",
   "language": "python",
   "name": "python3"
  },
  "language_info": {
   "codemirror_mode": {
    "name": "ipython",
    "version": 3
   },
   "file_extension": ".py",
   "mimetype": "text/x-python",
   "name": "python",
   "nbconvert_exporter": "python",
   "pygments_lexer": "ipython3",
   "version": "3.7.4"
  }
 },
 "nbformat": 4,
 "nbformat_minor": 2
}
