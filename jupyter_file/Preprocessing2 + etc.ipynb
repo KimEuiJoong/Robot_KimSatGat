{
 "cells": [
  {
   "cell_type": "code",
   "execution_count": 2,
   "metadata": {},
   "outputs": [],
   "source": [
    "#stopwords.csv에서 띄어쓰기 있는 데이터 제거\n",
    "import pandas as pd\n",
    "\n",
    "stopwordss = pd.read_csv('C:\\DeepLearing\\Robot_KSG\\poem\\stopwords.csv', encoding='CP949')\n",
    "\n",
    "stopwordss"
   ]
  },
  {
   "cell_type": "code",
   "execution_count": 12,
   "metadata": {},
   "outputs": [
    {
     "data": {
      "text/html": [
       "<div>\n",
       "<style scoped>\n",
       "    .dataframe tbody tr th:only-of-type {\n",
       "        vertical-align: middle;\n",
       "    }\n",
       "\n",
       "    .dataframe tbody tr th {\n",
       "        vertical-align: top;\n",
       "    }\n",
       "\n",
       "    .dataframe thead th {\n",
       "        text-align: right;\n",
       "    }\n",
       "</style>\n",
       "<table border=\"1\" class=\"dataframe\">\n",
       "  <thead>\n",
       "    <tr style=\"text-align: right;\">\n",
       "      <th></th>\n",
       "      <th>stopword</th>\n",
       "      <th>Unnamed: 1</th>\n",
       "      <th>Unnamed: 2</th>\n",
       "      <th>Unnamed: 3</th>\n",
       "      <th>Unnamed: 4</th>\n",
       "      <th>Unnamed: 5</th>\n",
       "      <th>Unnamed: 6</th>\n",
       "      <th>Unnamed: 7</th>\n",
       "    </tr>\n",
       "  </thead>\n",
       "  <tbody>\n",
       "    <tr>\n",
       "      <th>0</th>\n",
       "      <td>아</td>\n",
       "      <td>기타</td>\n",
       "      <td>불구하고</td>\n",
       "      <td>꽈당</td>\n",
       "      <td>어떤것</td>\n",
       "      <td>한다면</td>\n",
       "      <td>ㅅ</td>\n",
       "      <td>은</td>\n",
       "    </tr>\n",
       "    <tr>\n",
       "      <th>1</th>\n",
       "      <td>휴</td>\n",
       "      <td>첫번째로</td>\n",
       "      <td>얼마든지</td>\n",
       "      <td>응당</td>\n",
       "      <td>NaN</td>\n",
       "      <td>등</td>\n",
       "      <td>ㄴ</td>\n",
       "      <td>는</td>\n",
       "    </tr>\n",
       "    <tr>\n",
       "      <th>2</th>\n",
       "      <td>아이구</td>\n",
       "      <td>나머지는</td>\n",
       "      <td>마음대로</td>\n",
       "      <td>해야한다</td>\n",
       "      <td>NaN</td>\n",
       "      <td>등등</td>\n",
       "      <td>ㄹ</td>\n",
       "      <td>께</td>\n",
       "    </tr>\n",
       "    <tr>\n",
       "      <th>3</th>\n",
       "      <td>아이쿠</td>\n",
       "      <td>그중에서</td>\n",
       "      <td>NaN</td>\n",
       "      <td>NaN</td>\n",
       "      <td>연관되다</td>\n",
       "      <td>제</td>\n",
       "      <td>을까요</td>\n",
       "      <td>서</td>\n",
       "    </tr>\n",
       "    <tr>\n",
       "      <th>4</th>\n",
       "      <td>아이고</td>\n",
       "      <td>견지에서</td>\n",
       "      <td>곧</td>\n",
       "      <td>각</td>\n",
       "      <td>어떤것들</td>\n",
       "      <td>겨우</td>\n",
       "      <td>입니다</td>\n",
       "      <td>인</td>\n",
       "    </tr>\n",
       "    <tr>\n",
       "      <th>...</th>\n",
       "      <td>...</td>\n",
       "      <td>...</td>\n",
       "      <td>...</td>\n",
       "      <td>...</td>\n",
       "      <td>...</td>\n",
       "      <td>...</td>\n",
       "      <td>...</td>\n",
       "      <td>...</td>\n",
       "    </tr>\n",
       "    <tr>\n",
       "      <th>95</th>\n",
       "      <td>반드시</td>\n",
       "      <td>윙윙</td>\n",
       "      <td>NaN</td>\n",
       "      <td>인젠</td>\n",
       "      <td>참나</td>\n",
       "      <td>그위에</td>\n",
       "      <td>까닭으로</td>\n",
       "      <td>지마는</td>\n",
       "    </tr>\n",
       "    <tr>\n",
       "      <th>96</th>\n",
       "      <td>할줄알다</td>\n",
       "      <td>오호</td>\n",
       "      <td>NaN</td>\n",
       "      <td>이젠</td>\n",
       "      <td>그래서</td>\n",
       "      <td>게다가</td>\n",
       "      <td>이유만으로</td>\n",
       "      <td>거</td>\n",
       "    </tr>\n",
       "    <tr>\n",
       "      <th>97</th>\n",
       "      <td>할수있다</td>\n",
       "      <td>아하</td>\n",
       "      <td>너</td>\n",
       "      <td>된바에야</td>\n",
       "      <td>NaN</td>\n",
       "      <td>NaN</td>\n",
       "      <td>가까이</td>\n",
       "      <td>느니</td>\n",
       "    </tr>\n",
       "    <tr>\n",
       "      <th>98</th>\n",
       "      <td>할수있어</td>\n",
       "      <td>어쨋든</td>\n",
       "      <td>너희</td>\n",
       "      <td>된이상</td>\n",
       "      <td>그러므로</td>\n",
       "      <td>NaN</td>\n",
       "      <td>랏</td>\n",
       "      <td>니다</td>\n",
       "    </tr>\n",
       "    <tr>\n",
       "      <th>99</th>\n",
       "      <td>NaN</td>\n",
       "      <td>NaN</td>\n",
       "      <td>NaN</td>\n",
       "      <td>만큼어찌됏든</td>\n",
       "      <td>령</td>\n",
       "      <td>고려하면</td>\n",
       "      <td>옵니다</td>\n",
       "      <td>합니다</td>\n",
       "    </tr>\n",
       "  </tbody>\n",
       "</table>\n",
       "<p>100 rows × 8 columns</p>\n",
       "</div>"
      ],
      "text/plain": [
       "   stopword Unnamed: 1 Unnamed: 2 Unnamed: 3 Unnamed: 4 Unnamed: 5 Unnamed: 6  \\\n",
       "0         아         기타       불구하고         꽈당        어떤것        한다면          ㅅ   \n",
       "1         휴       첫번째로       얼마든지         응당        NaN          등          ㄴ   \n",
       "2       아이구       나머지는       마음대로       해야한다        NaN         등등          ㄹ   \n",
       "3       아이쿠       그중에서        NaN        NaN       연관되다          제        을까요   \n",
       "4       아이고       견지에서          곧          각       어떤것들         겨우        입니다   \n",
       "..      ...        ...        ...        ...        ...        ...        ...   \n",
       "95      반드시         윙윙        NaN         인젠         참나        그위에       까닭으로   \n",
       "96     할줄알다         오호        NaN         이젠        그래서        게다가      이유만으로   \n",
       "97     할수있다         아하          너       된바에야        NaN        NaN        가까이   \n",
       "98     할수있어        어쨋든         너희        된이상       그러므로        NaN          랏   \n",
       "99      NaN        NaN        NaN     만큼어찌됏든          령       고려하면        옵니다   \n",
       "\n",
       "   Unnamed: 7  \n",
       "0           은  \n",
       "1           는  \n",
       "2           께  \n",
       "3           서  \n",
       "4           인  \n",
       "..        ...  \n",
       "95        지마는  \n",
       "96          거  \n",
       "97         느니  \n",
       "98         니다  \n",
       "99        합니다  \n",
       "\n",
       "[100 rows x 8 columns]"
      ]
     },
     "execution_count": 12,
     "metadata": {},
     "output_type": "execute_result"
    }
   ],
   "source": [
    "for i in range(len(stopwordss)):\n",
    "    for j in range(len(stopwordss.iloc[i])-1):\n",
    "        if stopwordss.iloc[i, j].find(' ') != -1:\n",
    "            stopwordss.iloc[i, j] = ''\n",
    "            \n",
    "stopwordss"
   ]
  },
  {
   "cell_type": "code",
   "execution_count": null,
   "metadata": {},
   "outputs": [],
   "source": [
    "stopwordss.to_csv('C:\\DeepLearing\\Robot_KSG\\poem\\stopwords.csv', index=False)"
   ]
  },
  {
   "cell_type": "code",
   "execution_count": null,
   "metadata": {},
   "outputs": [],
   "source": []
  },
  {
   "cell_type": "code",
   "execution_count": 2,
   "metadata": {},
   "outputs": [
    {
     "data": {
      "text/html": [
       "<div>\n",
       "<style scoped>\n",
       "    .dataframe tbody tr th:only-of-type {\n",
       "        vertical-align: middle;\n",
       "    }\n",
       "\n",
       "    .dataframe tbody tr th {\n",
       "        vertical-align: top;\n",
       "    }\n",
       "\n",
       "    .dataframe thead th {\n",
       "        text-align: right;\n",
       "    }\n",
       "</style>\n",
       "<table border=\"1\" class=\"dataframe\">\n",
       "  <thead>\n",
       "    <tr style=\"text-align: right;\">\n",
       "      <th></th>\n",
       "      <th>name</th>\n",
       "      <th>writer</th>\n",
       "      <th>text</th>\n",
       "      <th>cc</th>\n",
       "    </tr>\n",
       "  </thead>\n",
       "  <tbody>\n",
       "    <tr>\n",
       "      <th>0</th>\n",
       "      <td>1, 2, 3, 4선생-1</td>\n",
       "      <td>서덕출</td>\n",
       "      <td>1,  2,  3,  4,  선생\\n\\n서덕출\\n\\n나는  학교  조그마한\\n\\n학...</td>\n",
       "      <td>자유이용 만료</td>\n",
       "    </tr>\n",
       "    <tr>\n",
       "      <th>1</th>\n",
       "      <td>10월의 노래</td>\n",
       "      <td>조명희</td>\n",
       "      <td>10\\n\\n월의 노래\\n\\n짓밟힌 무리의 흘린 핏방울 방울이\\n\\n지심으로 흘러 흘...</td>\n",
       "      <td>자유이용 만료</td>\n",
       "    </tr>\n",
       "    <tr>\n",
       "      <th>2</th>\n",
       "      <td>15일간</td>\n",
       "      <td>박인환</td>\n",
       "      <td>일간15\\n\\n깨끗한 시트 위에서\\n\\n나는 몸부림을 쳐도 소용이 없다.\\n\\n공간...</td>\n",
       "      <td>자유이용 만료</td>\n",
       "    </tr>\n",
       "  </tbody>\n",
       "</table>\n",
       "</div>"
      ],
      "text/plain": [
       "             name writer                                               text  \\\n",
       "0  1, 2, 3, 4선생-1   서덕출   1,  2,  3,  4,  선생\\n\\n서덕출\\n\\n나는  학교  조그마한\\n\\n학...   \n",
       "1         10월의 노래   조명희   10\\n\\n월의 노래\\n\\n짓밟힌 무리의 흘린 핏방울 방울이\\n\\n지심으로 흘러 흘...   \n",
       "2            15일간   박인환   일간15\\n\\n깨끗한 시트 위에서\\n\\n나는 몸부림을 쳐도 소용이 없다.\\n\\n공간...   \n",
       "\n",
       "        cc  \n",
       "0  자유이용 만료  \n",
       "1  자유이용 만료  \n",
       "2  자유이용 만료  "
      ]
     },
     "execution_count": 2,
     "metadata": {},
     "output_type": "execute_result"
    }
   ],
   "source": [
    "#시 1차 정제(줄바꿈/한문 등/특수문자)\n",
    "import pandas as pd\n",
    "\n",
    "poems = pd.read_csv('C:\\DeepLearing\\Robot_KSG\\poem\\poems.csv', names=['name', 'writer', 'text', 'cc'], sep=',')\n",
    "\n",
    "poems[:3]"
   ]
  },
  {
   "cell_type": "code",
   "execution_count": 4,
   "metadata": {},
   "outputs": [],
   "source": [
    "del(poems['cc'])"
   ]
  },
  {
   "cell_type": "code",
   "execution_count": 5,
   "metadata": {},
   "outputs": [],
   "source": [
    "poems['text'] = poems['text'].str.replace(\"[^ㄱ-ㅎㅏ-ㅣ가-힣0-9,.!?\\s]\",\"\")\n",
    "poems['text'] = poems['text'].str.replace(\"\\n+\",\"\\n\")\n",
    "poems['text'] = poems['text'].str.replace(\"\\n.\\n\",\"\")"
   ]
  },
  {
   "cell_type": "code",
   "execution_count": 6,
   "metadata": {},
   "outputs": [],
   "source": [
    "poems.to_csv('C:\\DeepLearing\\Robot_KSG\\poem\\poems_preprocessing_v1.csv', index=False)"
   ]
  },
  {
   "cell_type": "code",
   "execution_count": null,
   "metadata": {},
   "outputs": [],
   "source": []
  },
  {
   "cell_type": "code",
   "execution_count": 1,
   "metadata": {},
   "outputs": [
    {
     "name": "stdout",
     "output_type": "stream",
     "text": [
      "{'바나나': 1, '먹고': 2, '싶은': 3, '사과': 4, '길고': 5, '노란': 6, '저는': 7, '과일이': 8, '좋아요': 9}\n"
     ]
    }
   ],
   "source": [
    "#test - MLP 전처리 연습\n",
    "import numpy as np\n",
    "from tensorflow.keras.preprocessing.text import Tokenizer\n",
    "\n",
    "texts = [['먹고', '싶은', '사과'], ['먹고', '싶은', '바나나'], ['길고', '노란', '바나나', '바나나'], ['저는', '과일이', '좋아요']]\n",
    "#토큰화 상태로 keras Tokenizer 진행 가능(불용어 제거한 토큰 상태인 데이터 사용 예정)\n",
    "t = Tokenizer()\n",
    "t.fit_on_texts(texts)\n",
    "print(t.word_index)"
   ]
  },
  {
   "cell_type": "code",
   "execution_count": 2,
   "metadata": {},
   "outputs": [
    {
     "name": "stdout",
     "output_type": "stream",
     "text": [
      "{\"'바나나'\": 1, \"'먹고'\": 2, \"'싶은'\": 3, \"'사과'\": 4, \"'길고'\": 5, \"'노란'\": 6, \"'저는'\": 7, \"'과일이'\": 8, \"'좋아요'\": 9}\n"
     ]
    }
   ],
   "source": [
    "texts = [\"['먹고', '싶은', '사과']\", \"['먹고', '싶은', '바나나']\", \"['길고', '노란', '바나나', '바나나']\", \"['저는', '과일이', '좋아요']\"]\n",
    "\n",
    "t = Tokenizer()\n",
    "t.fit_on_texts(texts)\n",
    "print(t.word_index)"
   ]
  },
  {
   "cell_type": "code",
   "execution_count": 3,
   "metadata": {},
   "outputs": [
    {
     "name": "stdout",
     "output_type": "stream",
     "text": [
      "[[0. 0. 1. 1. 1. 0. 0. 0. 0. 0.]\n",
      " [0. 1. 1. 1. 0. 0. 0. 0. 0. 0.]\n",
      " [0. 2. 0. 0. 0. 1. 1. 0. 0. 0.]\n",
      " [0. 0. 0. 0. 0. 0. 0. 1. 1. 1.]]\n"
     ]
    }
   ],
   "source": [
    "print(t.texts_to_matrix(texts, mode = 'count'))"
   ]
  },
  {
   "cell_type": "code",
   "execution_count": null,
   "metadata": {},
   "outputs": [],
   "source": []
  }
 ],
 "metadata": {
  "kernelspec": {
   "display_name": "Python 3",
   "language": "python",
   "name": "python3"
  },
  "language_info": {
   "codemirror_mode": {
    "name": "ipython",
    "version": 3
   },
   "file_extension": ".py",
   "mimetype": "text/x-python",
   "name": "python",
   "nbconvert_exporter": "python",
   "pygments_lexer": "ipython3",
   "version": "3.7.4"
  }
 },
 "nbformat": 4,
 "nbformat_minor": 2
}
