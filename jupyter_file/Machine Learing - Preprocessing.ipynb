{
 "cells": [
  {
   "cell_type": "code",
   "execution_count": 1,
   "metadata": {
    "scrolled": false
   },
   "outputs": [
    {
     "data": {
      "text/html": [
       "<div>\n",
       "<style scoped>\n",
       "    .dataframe tbody tr th:only-of-type {\n",
       "        vertical-align: middle;\n",
       "    }\n",
       "\n",
       "    .dataframe tbody tr th {\n",
       "        vertical-align: top;\n",
       "    }\n",
       "\n",
       "    .dataframe thead th {\n",
       "        text-align: right;\n",
       "    }\n",
       "</style>\n",
       "<table border=\"1\" class=\"dataframe\">\n",
       "  <thead>\n",
       "    <tr style=\"text-align: right;\">\n",
       "      <th></th>\n",
       "      <th>name</th>\n",
       "      <th>writer</th>\n",
       "      <th>text</th>\n",
       "      <th>cc</th>\n",
       "      <th>tags</th>\n",
       "    </tr>\n",
       "  </thead>\n",
       "  <tbody>\n",
       "    <tr>\n",
       "      <th>0</th>\n",
       "      <td>1, 2, 3, 4선생-1</td>\n",
       "      <td>서덕출</td>\n",
       "      <td>1,  2,  3,  4,  선생\\n\\n서덕출\\n\\n나는  학교  조그마한\\n\\n학...</td>\n",
       "      <td>자유이용 만료</td>\n",
       "      <td>순수</td>\n",
       "    </tr>\n",
       "    <tr>\n",
       "      <th>1</th>\n",
       "      <td>10월의 노래</td>\n",
       "      <td>조명희</td>\n",
       "      <td>10\\n\\n월의 노래\\n\\n짓밟힌 무리의 흘린 핏방울 방울이\\n\\n지심으로 흘러 흘...</td>\n",
       "      <td>자유이용 만료</td>\n",
       "      <td>의지</td>\n",
       "    </tr>\n",
       "    <tr>\n",
       "      <th>2</th>\n",
       "      <td>15일간</td>\n",
       "      <td>박인환</td>\n",
       "      <td>일간15\\n\\n깨끗한 시트 위에서\\n\\n나는 몸부림을 쳐도 소용이 없다.\\n\\n공간...</td>\n",
       "      <td>자유이용 만료</td>\n",
       "      <td>무심</td>\n",
       "    </tr>\n",
       "  </tbody>\n",
       "</table>\n",
       "</div>"
      ],
      "text/plain": [
       "             name writer                                               text  \\\n",
       "0  1, 2, 3, 4선생-1   서덕출   1,  2,  3,  4,  선생\\n\\n서덕출\\n\\n나는  학교  조그마한\\n\\n학...   \n",
       "1         10월의 노래   조명희   10\\n\\n월의 노래\\n\\n짓밟힌 무리의 흘린 핏방울 방울이\\n\\n지심으로 흘러 흘...   \n",
       "2            15일간   박인환   일간15\\n\\n깨끗한 시트 위에서\\n\\n나는 몸부림을 쳐도 소용이 없다.\\n\\n공간...   \n",
       "\n",
       "        cc tags  \n",
       "0  자유이용 만료   순수  \n",
       "1  자유이용 만료   의지  \n",
       "2  자유이용 만료   무심  "
      ]
     },
     "execution_count": 1,
     "metadata": {},
     "output_type": "execute_result"
    }
   ],
   "source": [
    "#1\n",
    "#태그된 시 데이터 불러오기\n",
    "import pandas as pd\n",
    "\n",
    "poems_tag = pd.read_csv('C:\\DeepLearing\\Robot_KSG\\poem\\\\tagging\\poems_tag_v1028.csv')\n",
    "\n",
    "poems_tag[:3]"
   ]
  },
  {
   "cell_type": "code",
   "execution_count": 2,
   "metadata": {
    "scrolled": true
   },
   "outputs": [
    {
     "data": {
      "text/plain": [
       "0    순수\n",
       "1    의지\n",
       "2    무심\n",
       "3     #\n",
       "4    의지\n",
       "Name: tags, dtype: object"
      ]
     },
     "execution_count": 2,
     "metadata": {},
     "output_type": "execute_result"
    }
   ],
   "source": [
    "#2.1\n",
    "#시 index, 태그 따로 분류\n",
    "import pickle\n",
    "\n",
    "poems_index_tag = poems_tag.iloc[:,4]\n",
    "#with open('C:\\DeepLearing\\Robot_KSG\\poem\\poems_index_tag', 'wb') as fw:\n",
    "#    pickle.dump(poems_index_tag, fw)\n",
    "\n",
    "poems_index_tag[:5]"
   ]
  },
  {
   "cell_type": "code",
   "execution_count": 3,
   "metadata": {},
   "outputs": [
    {
     "data": {
      "text/plain": [
       "0        순수\n",
       "1        의지\n",
       "2        무심\n",
       "4        의지\n",
       "6        불안\n",
       "       ... \n",
       "4808     무심\n",
       "4835    즐거움\n",
       "4851     기쁨\n",
       "4852     희망\n",
       "4864     성찰\n",
       "Name: tags, Length: 1092, dtype: object"
      ]
     },
     "execution_count": 3,
     "metadata": {},
     "output_type": "execute_result"
    }
   ],
   "source": [
    "#2.2\n",
    "#태그기호(#) 제거(태그안한 시 제거) + !제거\n",
    "poems_index_tag = poems_index_tag[poems_index_tag!='#']\n",
    "poems_index_tag.dropna(axis=0, inplace=True)\n",
    "poems_index_tag.replace('!', '', regex=True, inplace=True)\n",
    "poems_index_tag"
   ]
  },
  {
   "cell_type": "code",
   "execution_count": 108,
   "metadata": {},
   "outputs": [
    {
     "data": {
      "text/plain": [
       "Int64Index([   0, 1198, 1221, 1224, 1237, 1241, 1260, 1266, 1269, 1278, 1287,\n",
       "            1288, 1292, 1294, 1296, 1310, 1364, 1397, 1731, 1861, 1865, 2252,\n",
       "            2334, 2389, 2425, 2691, 4322, 4345],\n",
       "           dtype='int64')"
      ]
     },
     "execution_count": 108,
     "metadata": {},
     "output_type": "execute_result"
    }
   ],
   "source": [
    "#poems_index_tag[4]\n",
    "poems_index_tag[poems_index_tag.isin(['순수'])].index\n"
   ]
  },
  {
   "cell_type": "code",
   "execution_count": 109,
   "metadata": {},
   "outputs": [
    {
     "data": {
      "text/plain": [
       "str"
      ]
     },
     "execution_count": 109,
     "metadata": {},
     "output_type": "execute_result"
    }
   ],
   "source": [
    "type(poems_index_tag[0])"
   ]
  },
  {
   "cell_type": "code",
   "execution_count": 110,
   "metadata": {},
   "outputs": [
    {
     "data": {
      "text/plain": [
       "'슬픔'"
      ]
     },
     "execution_count": 110,
     "metadata": {},
     "output_type": "execute_result"
    }
   ],
   "source": [
    "import re\n",
    "s = \"슬픔#고독#성찰\"\n",
    "\n",
    "re.sub(\"#(\\w+)\", \"\", s)"
   ]
  },
  {
   "cell_type": "code",
   "execution_count": 111,
   "metadata": {},
   "outputs": [
    {
     "data": {
      "text/plain": [
       "0        순수\n",
       "1        의지\n",
       "2        무심\n",
       "4        의지\n",
       "6        불안\n",
       "       ... \n",
       "4808     무심\n",
       "4835    즐거움\n",
       "4851     기쁨\n",
       "4852     희망\n",
       "4864     성찰\n",
       "Name: tags, Length: 468, dtype: object"
      ]
     },
     "execution_count": 111,
     "metadata": {},
     "output_type": "execute_result"
    }
   ],
   "source": [
    "#2.2'\n",
    "#태그 여러개인거 -> 1개로 줄이기(임시)\n",
    "poems_index_tag_ = poems_index_tag.replace('#(\\w+)', '', regex=True)\n",
    "\n",
    "poems_index_tag_"
   ]
  },
  {
   "cell_type": "code",
   "execution_count": 4,
   "metadata": {},
   "outputs": [],
   "source": [
    "#2.3\n",
    "#정수 인코딩 전 태그로 내보내기\n",
    "with open('C:\\DeepLearing\\Robot_KSG\\Softmax_Regression\\poems_tag', 'wb') as fw:\n",
    "    pickle.dump(poems_index_tag, fw)\n"
   ]
  },
  {
   "cell_type": "code",
   "execution_count": 112,
   "metadata": {},
   "outputs": [
    {
     "data": {
      "text/plain": [
       "0        6\n",
       "1        9\n",
       "2       12\n",
       "4        9\n",
       "6       14\n",
       "        ..\n",
       "4808    12\n",
       "4835     1\n",
       "4851     0\n",
       "4852     4\n",
       "4864    15\n",
       "Name: tags, Length: 468, dtype: object"
      ]
     },
     "execution_count": 112,
     "metadata": {},
     "output_type": "execute_result"
    }
   ],
   "source": [
    "#3.1'\n",
    "#태그 정수 인덱싱 진행\n",
    "tagList = ['기쁨','즐거움','사랑1','사랑2','희망','활기','순수','잔잔','슬픔','의지','그리움1','그리움2','무심','고독','불안','성찰', '불용']\n",
    "\n",
    "index = 0\n",
    "for poemTag in poems_index_tag_:\n",
    "    poems_index_tag_[poems_index_tag_.index[index]] = tagList.index(poemTag)\n",
    "    index += 1\n",
    "\n",
    "poems_index_tag_"
   ]
  },
  {
   "cell_type": "code",
   "execution_count": 115,
   "metadata": {},
   "outputs": [
    {
     "data": {
      "text/plain": [
       "'기쁨'"
      ]
     },
     "execution_count": 115,
     "metadata": {},
     "output_type": "execute_result"
    }
   ],
   "source": [
    "tagList[0]"
   ]
  },
  {
   "cell_type": "code",
   "execution_count": 114,
   "metadata": {},
   "outputs": [
    {
     "data": {
      "text/plain": [
       "'순수'"
      ]
     },
     "execution_count": 114,
     "metadata": {},
     "output_type": "execute_result"
    }
   ],
   "source": [
    "poems_index_tag[0]"
   ]
  },
  {
   "cell_type": "code",
   "execution_count": 113,
   "metadata": {},
   "outputs": [
    {
     "data": {
      "text/plain": [
       "6"
      ]
     },
     "execution_count": 113,
     "metadata": {},
     "output_type": "execute_result"
    }
   ],
   "source": [
    "tagList.index(poems_index_tag[0])"
   ]
  },
  {
   "cell_type": "code",
   "execution_count": 116,
   "metadata": {},
   "outputs": [],
   "source": [
    "#3.2'\n",
    "#시 인덱스 - 정수태그 데이터, 태그 리스트 내보내기\n",
    "with open('C:\\DeepLearing\\Robot_KSG\\Softmax_Regression\\poemIndex_intTag', 'wb') as fw:\n",
    "    pickle.dump(poems_index_tag_, fw)\n",
    "with open('C:\\DeepLearing\\Robot_KSG\\Softmax_Regression\\\\tagList', 'wb') as fw:\n",
    "    pickle.dump(tagList, fw)"
   ]
  },
  {
   "cell_type": "code",
   "execution_count": null,
   "metadata": {},
   "outputs": [],
   "source": []
  }
 ],
 "metadata": {
  "kernelspec": {
   "display_name": "Python 3",
   "language": "python",
   "name": "python3"
  },
  "language_info": {
   "codemirror_mode": {
    "name": "ipython",
    "version": 3
   },
   "file_extension": ".py",
   "mimetype": "text/x-python",
   "name": "python",
   "nbconvert_exporter": "python",
   "pygments_lexer": "ipython3",
   "version": "3.7.4"
  }
 },
 "nbformat": 4,
 "nbformat_minor": 2
}
