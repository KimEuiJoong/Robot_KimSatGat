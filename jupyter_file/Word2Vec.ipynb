{
 "cells": [
  {
   "cell_type": "code",
   "execution_count": 11,
   "metadata": {},
   "outputs": [
    {
     "data": {
      "text/html": [
       "<div>\n",
       "<style scoped>\n",
       "    .dataframe tbody tr th:only-of-type {\n",
       "        vertical-align: middle;\n",
       "    }\n",
       "\n",
       "    .dataframe tbody tr th {\n",
       "        vertical-align: top;\n",
       "    }\n",
       "\n",
       "    .dataframe thead th {\n",
       "        text-align: right;\n",
       "    }\n",
       "</style>\n",
       "<table border=\"1\" class=\"dataframe\">\n",
       "  <thead>\n",
       "    <tr style=\"text-align: right;\">\n",
       "      <th></th>\n",
       "      <th>0</th>\n",
       "      <th>1</th>\n",
       "      <th>2</th>\n",
       "      <th>3</th>\n",
       "      <th>4</th>\n",
       "      <th>5</th>\n",
       "      <th>6</th>\n",
       "      <th>7</th>\n",
       "      <th>8</th>\n",
       "      <th>9</th>\n",
       "      <th>...</th>\n",
       "      <th>136</th>\n",
       "      <th>137</th>\n",
       "      <th>138</th>\n",
       "      <th>139</th>\n",
       "      <th>140</th>\n",
       "      <th>141</th>\n",
       "      <th>142</th>\n",
       "      <th>143</th>\n",
       "      <th>144</th>\n",
       "      <th>145</th>\n",
       "    </tr>\n",
       "  </thead>\n",
       "  <tbody>\n",
       "    <tr>\n",
       "      <th>0</th>\n",
       "      <td>1</td>\n",
       "      <td>2</td>\n",
       "      <td>3</td>\n",
       "      <td>4</td>\n",
       "      <td>선생</td>\n",
       "      <td>서덕출</td>\n",
       "      <td>학교</td>\n",
       "      <td>조그마</td>\n",
       "      <td>학생</td>\n",
       "      <td>집</td>\n",
       "      <td>...</td>\n",
       "      <td>-</td>\n",
       "      <td>-</td>\n",
       "      <td>-</td>\n",
       "      <td>-</td>\n",
       "      <td>-</td>\n",
       "      <td>-</td>\n",
       "      <td>-</td>\n",
       "      <td>-</td>\n",
       "      <td>-</td>\n",
       "      <td>-</td>\n",
       "    </tr>\n",
       "    <tr>\n",
       "      <th>1</th>\n",
       "      <td>10</td>\n",
       "      <td>월</td>\n",
       "      <td>노래</td>\n",
       "      <td>짓밟힌</td>\n",
       "      <td>무리</td>\n",
       "      <td>흘린</td>\n",
       "      <td>핏방울</td>\n",
       "      <td>방울</td>\n",
       "      <td>지심</td>\n",
       "      <td>흘러</td>\n",
       "      <td>...</td>\n",
       "      <td>-</td>\n",
       "      <td>-</td>\n",
       "      <td>-</td>\n",
       "      <td>-</td>\n",
       "      <td>-</td>\n",
       "      <td>-</td>\n",
       "      <td>-</td>\n",
       "      <td>-</td>\n",
       "      <td>-</td>\n",
       "      <td>-</td>\n",
       "    </tr>\n",
       "  </tbody>\n",
       "</table>\n",
       "<p>2 rows × 146 columns</p>\n",
       "</div>"
      ],
      "text/plain": [
       "    0  1   2    3   4    5    6    7   8   9  ... 136 137 138 139 140 141 142  \\\n",
       "0   1  2   3    4  선생  서덕출   학교  조그마  학생   집  ...   -   -   -   -   -   -   -   \n",
       "1  10  월  노래  짓밟힌  무리   흘린  핏방울   방울  지심  흘러  ...   -   -   -   -   -   -   -   \n",
       "\n",
       "  143 144 145  \n",
       "0   -   -   -  \n",
       "1   -   -   -  \n",
       "\n",
       "[2 rows x 146 columns]"
      ]
     },
     "execution_count": 11,
     "metadata": {},
     "output_type": "execute_result"
    }
   ],
   "source": [
    "#1\n",
    "#시 데이터 불러오기\n",
    "import pandas as pd\n",
    "import numpy as np\n",
    "import matplotlib.pyplot as plt\n",
    "from gensim.models.word2vec import Word2Vec\n",
    "\n",
    "poems_token = pd.read_csv(\"C:\\DeepLearing\\Robot_KSG\\poem\\poems_text_token.csv\", index_col=0)\n",
    "poems_token.fillna('-', inplace=True)\n",
    "\n",
    "poems_token[:2]"
   ]
  },
  {
   "cell_type": "code",
   "execution_count": 7,
   "metadata": {},
   "outputs": [
    {
     "data": {
      "text/plain": [
       "4874"
      ]
     },
     "execution_count": 7,
     "metadata": {},
     "output_type": "execute_result"
    }
   ],
   "source": [
    "len(poems_token)"
   ]
  },
  {
   "cell_type": "code",
   "execution_count": 12,
   "metadata": {},
   "outputs": [],
   "source": [
    "#2\n",
    "#리스트로 변환 + NaN 제거\n",
    "poems_token = poems_token.values.tolist()\n",
    "\n",
    "for poem_token in poems_token:\n",
    "    while '-' in poem_token:\n",
    "        poem_token.remove('-')"
   ]
  },
  {
   "cell_type": "code",
   "execution_count": 9,
   "metadata": {},
   "outputs": [
    {
     "data": {
      "text/plain": [
       "['10',\n",
       " '월',\n",
       " '노래',\n",
       " '짓밟힌',\n",
       " '무리',\n",
       " '흘린',\n",
       " '핏방울',\n",
       " '방울',\n",
       " '지심',\n",
       " '흘러',\n",
       " '흘러',\n",
       " '폭발',\n",
       " '새',\n",
       " '화산',\n",
       " '새',\n",
       " '세기',\n",
       " '화산',\n",
       " '솟',\n",
       " '북방',\n",
       " '높이',\n",
       " '솟',\n",
       " '새',\n",
       " '히말라야',\n",
       " '산소',\n",
       " '비에트',\n",
       " '공화국',\n",
       " '앞',\n",
       " '낡',\n",
       " '제도',\n",
       " '골짜기',\n",
       " '무너졌',\n",
       " '온',\n",
       " '세계',\n",
       " '바다',\n",
       " '끓',\n",
       " '는다오',\n",
       " '모국',\n",
       " '소비에트',\n",
       " '공화국',\n",
       " '거룩',\n",
       " '탄생',\n",
       " '여자',\n",
       " '나가',\n",
       " '힘',\n",
       " '억척',\n",
       " '스러운',\n",
       " '걸음걸음',\n",
       " '여열',\n",
       " '해',\n",
       " '맞',\n",
       " '날',\n",
       " '아침',\n",
       " '맑',\n",
       " '햇빛',\n",
       " '아래',\n",
       " '높이',\n",
       " '날려라',\n",
       " '붉',\n",
       " '깃발',\n",
       " '높이',\n",
       " '울려라',\n",
       " '승리',\n",
       " '쇠북',\n",
       " '만국',\n",
       " '승냥이',\n",
       " '갈',\n",
       " '떤',\n",
       " '떤',\n",
       " '다사',\n",
       " '새',\n",
       " '화산',\n",
       " '아들',\n",
       " '건장',\n",
       " '무리',\n",
       " '원수',\n",
       " '향하',\n",
       " '소리',\n",
       " '동무',\n",
       " '불러',\n",
       " '소리',\n",
       " '한층',\n",
       " '높이',\n",
       " '만세',\n",
       " '만세',\n",
       " '손',\n",
       " '망치',\n",
       " '잡',\n",
       " '발',\n",
       " '바퀴',\n",
       " '굴린다',\n",
       " '어깨',\n",
       " '총',\n",
       " '메',\n",
       " '머리',\n",
       " '위',\n",
       " '새',\n",
       " '태양',\n",
       " '과학',\n",
       " '빛난다',\n",
       " '건설',\n",
       " '쉬',\n",
       " '일',\n",
       " '날',\n",
       " '없',\n",
       " '무장',\n",
       " '원수',\n",
       " '물리치',\n",
       " '고야',\n",
       " '망치',\n",
       " '힘',\n",
       " '내려',\n",
       " '바퀴',\n",
       " '빨리',\n",
       " '굴러',\n",
       " '태양',\n",
       " '빛나',\n",
       " '내리',\n",
       " '쪼',\n",
       " '여라',\n",
       " '걸음',\n",
       " '시',\n",
       " '급하',\n",
       " '팔다리',\n",
       " '힘줄',\n",
       " '뛴다',\n",
       " '앞',\n",
       " '앞',\n",
       " '1931',\n",
       " '9']"
      ]
     },
     "execution_count": 9,
     "metadata": {},
     "output_type": "execute_result"
    }
   ],
   "source": [
    "poems_token[1]"
   ]
  },
  {
   "cell_type": "code",
   "execution_count": 13,
   "metadata": {},
   "outputs": [],
   "source": [
    "#3.1\n",
    "#Word2Vec 모델 생성\n",
    "from gensim.models import Word2Vec\n",
    "\n",
    "model = Word2Vec(sentences=poems_token, size=100, window=5, min_count=3, workers=4, sg=1)"
   ]
  },
  {
   "cell_type": "code",
   "execution_count": 14,
   "metadata": {},
   "outputs": [
    {
     "data": {
      "text/plain": [
       "(12293, 100)"
      ]
     },
     "execution_count": 14,
     "metadata": {},
     "output_type": "execute_result"
    }
   ],
   "source": [
    "model.wv.vectors.shape"
   ]
  },
  {
   "cell_type": "code",
   "execution_count": 14,
   "metadata": {},
   "outputs": [
    {
     "name": "stdout",
     "output_type": "stream",
     "text": [
      "[('괴로운', 0.9462840557098389), ('느끼', 0.9340461492538452), ('쓰린', 0.9317784309387207), ('걸어가', 0.9307203888893127), ('자취', 0.9272079467773438), ('그림', 0.9263730049133301), ('음성', 0.9251046180725098), ('환상', 0.923625111579895), ('마지막', 0.9230563640594482), ('덧없', 0.9229445457458496)]\n"
     ]
    }
   ],
   "source": [
    "print(model.wv.most_similar('슬픔'))"
   ]
  },
  {
   "cell_type": "code",
   "execution_count": null,
   "metadata": {},
   "outputs": [],
   "source": []
  },
  {
   "cell_type": "code",
   "execution_count": 2,
   "metadata": {},
   "outputs": [],
   "source": [
    "#3.2\n",
    "#사전 훈련된 Word2Vec 임베딩\n",
    "import gensim\n",
    "\n",
    "model2 = gensim.models.Word2Vec.load('C:\\DeepLearing\\Word2Vec_model\\ko\\ko.bin')"
   ]
  },
  {
   "cell_type": "code",
   "execution_count": 15,
   "metadata": {},
   "outputs": [
    {
     "name": "stdout",
     "output_type": "stream",
     "text": [
      "[('기쁨', 0.7767106294631958), ('절망', 0.7710497379302979), ('아픔', 0.7430999279022217), ('비탄', 0.7297681570053101), ('고독', 0.725147545337677), ('사랑', 0.7216662168502808), ('외로움', 0.7195188999176025), ('추억', 0.6951202750205994), ('이별', 0.6873862743377686), ('괴로움', 0.6854110956192017)]\n"
     ]
    }
   ],
   "source": [
    "similar = model2.wv.most_similar\n",
    "\n",
    "print(similar('슬픔'))"
   ]
  },
  {
   "cell_type": "code",
   "execution_count": 10,
   "metadata": {},
   "outputs": [
    {
     "data": {
      "text/plain": [
       "[('산의', 0.7235683798789978),\n",
       " ('산과', 0.6179043054580688),\n",
       " ('기슭', 0.5736351013183594),\n",
       " ('산기슭', 0.5669755339622498),\n",
       " ('동편', 0.5566598176956177),\n",
       " ('산계', 0.5555673837661743),\n",
       " ('계곡', 0.5549116134643555),\n",
       " ('산맥', 0.5487329363822937),\n",
       " ('언덕', 0.5379024147987366),\n",
       " ('산중', 0.5327263474464417)]"
      ]
     },
     "execution_count": 10,
     "metadata": {},
     "output_type": "execute_result"
    }
   ],
   "source": [
    "model2.wv.most_similar('')"
   ]
  },
  {
   "cell_type": "code",
   "execution_count": null,
   "metadata": {},
   "outputs": [],
   "source": []
  }
 ],
 "metadata": {
  "kernelspec": {
   "display_name": "Python 3",
   "language": "python",
   "name": "python3"
  },
  "language_info": {
   "codemirror_mode": {
    "name": "ipython",
    "version": 3
   },
   "file_extension": ".py",
   "mimetype": "text/x-python",
   "name": "python",
   "nbconvert_exporter": "python",
   "pygments_lexer": "ipython3",
   "version": "3.7.4"
  }
 },
 "nbformat": 4,
 "nbformat_minor": 2
}
