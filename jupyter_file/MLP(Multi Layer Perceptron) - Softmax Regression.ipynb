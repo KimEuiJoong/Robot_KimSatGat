{
 "cells": [
  {
   "cell_type": "code",
   "execution_count": 4,
   "metadata": {},
   "outputs": [
    {
     "name": "stdout",
     "output_type": "stream",
     "text": [
      "[['선생', '서덕출', '학교', '마한', '학생', '집', '선', '말', '선생', '동무', '서넛', '놓고', '가르치는', '선생'], ['노래', '짓밟힌', '무리', '흘린', '핏', '방울', '방울', '이지', '심', '흘러', '흘러', '폭발', '새', '화산', '새', '세기', '화산', '북방', '솟은', '새', '히말라야', '산', '소비에트', '공화국', '낡은', '제도', '골짜기', '무너졌다', '온', '세계', '바다', '끓는', '소비에트', '공화국', '거룩', '탄생', '여자', '라나', '힘', '걸음', '걸음', '열네', '해', '맞는', '날', '아침', '맑은', '햇빛', '날려라', '붉은', '깃발', '울려라', '승리', '쇠북', '만국', '승냥이', '갈며', '떤다', '떤다', '사자', '새', '화산', '아들', '건장', '무', '리야', '원수', '향', '소리', '동무', '불러', '소리', '한층', '만세', '만세', '손', '망치', '고우리', '발', '바퀴', '굴', '린다', '어깨', '총', '메', '고우리', '머리', '위엔', '새', '태양', '과학', '빛난다이', '리하', '건설', '쉬일', '날', '고우리', '무장', '원수', '물리', '만다', '망치', '힘', '있게', '내려', '바퀴', '빨리', '태양', '빛나게', '내리', '걸음', '시가', '고우리', '팔다리', '힘줄']]\n",
      "0        6\n",
      "1        9\n",
      "2       12\n",
      "4        9\n",
      "6       14\n",
      "        ..\n",
      "4808    12\n",
      "4835     1\n",
      "4851     0\n",
      "4852     4\n",
      "4864    15\n",
      "Name: tags, Length: 468, dtype: object\n",
      "['기쁨', '즐거움', '사랑1', '사랑2', '희망', '활기', '순수', '잔잔', '슬픔', '의지', '그리움1', '그리움2', '무심', '고독', '불안', '성찰', '불용']\n"
     ]
    }
   ],
   "source": [
    "#1\n",
    "#시, 태그 데이터 불러오기\n",
    "import pandas as pd\n",
    "%matplotlib inline\n",
    "import matplotlib.pyplot as plt\n",
    "from tensorflow.keras.preprocessing.text import Tokenizer\n",
    "from tensorflow.keras.utils import to_categorical\n",
    "import pickle\n",
    "\n",
    "with open('C:\\DeepLearing\\Robot_KSG\\Softmax_Regression\\poems_token_MLP', 'rb') as fr:\n",
    "    poems_token = pickle.load(fr)\n",
    "with open('C:\\DeepLearing\\Robot_KSG\\Softmax_Regression\\poemIndex_intTag', 'rb') as fr:\n",
    "    poems_tag = pickle.load(fr)\n",
    "with open('C:\\DeepLearing\\Robot_KSG\\Softmax_Regression\\\\tagList', 'rb') as fr:\n",
    "    tagList = pickle.load(fr) #정수-태그 데이터\n",
    "\n",
    "print(poems_token[:2])\n",
    "print(poems_tag)\n",
    "print(tagList)"
   ]
  },
  {
   "cell_type": "code",
   "execution_count": 27,
   "metadata": {},
   "outputs": [
    {
     "name": "stdout",
     "output_type": "stream",
     "text": [
      "<class 'str'>\n"
     ]
    }
   ],
   "source": [
    "print(type(str(poems_token[0])))"
   ]
  },
  {
   "cell_type": "code",
   "execution_count": 6,
   "metadata": {},
   "outputs": [
    {
     "data": {
      "text/plain": [
       "pandas.core.series.Series"
      ]
     },
     "execution_count": 6,
     "metadata": {},
     "output_type": "execute_result"
    }
   ],
   "source": [
    "type(poems_tag)"
   ]
  },
  {
   "cell_type": "code",
   "execution_count": 13,
   "metadata": {},
   "outputs": [
    {
     "data": {
      "text/plain": [
       "\"['선생', '서덕출', '학교', '마한', '학생', '집', '선', '말', '선생', '동무', '서넛', '놓고', '가르치는', '선생']\""
      ]
     },
     "execution_count": 13,
     "metadata": {},
     "output_type": "execute_result"
    }
   ],
   "source": [
    "str(poems_token[0])"
   ]
  },
  {
   "cell_type": "code",
   "execution_count": 48,
   "metadata": {},
   "outputs": [
    {
     "data": {
      "text/plain": [
       "'선생, 서덕출, 학교, 마한, 학생, 집, 선, 말, 선생, 동무, 서넛, 놓고, 가르치는, 선생'"
      ]
     },
     "execution_count": 48,
     "metadata": {},
     "output_type": "execute_result"
    }
   ],
   "source": [
    "a = str(poems_token[0]).replace(\"[\",\"\").replace(\"]\",\"\").replace(\"'\",\"\")\n",
    "a"
   ]
  },
  {
   "cell_type": "code",
   "execution_count": 5,
   "metadata": {},
   "outputs": [
    {
     "data": {
      "text/html": [
       "<div>\n",
       "<style scoped>\n",
       "    .dataframe tbody tr th:only-of-type {\n",
       "        vertical-align: middle;\n",
       "    }\n",
       "\n",
       "    .dataframe tbody tr th {\n",
       "        vertical-align: top;\n",
       "    }\n",
       "\n",
       "    .dataframe thead th {\n",
       "        text-align: right;\n",
       "    }\n",
       "</style>\n",
       "<table border=\"1\" class=\"dataframe\">\n",
       "  <thead>\n",
       "    <tr style=\"text-align: right;\">\n",
       "      <th></th>\n",
       "      <th>poem</th>\n",
       "      <th>tag</th>\n",
       "    </tr>\n",
       "  </thead>\n",
       "  <tbody>\n",
       "    <tr>\n",
       "      <th>0</th>\n",
       "      <td>선생, 서덕출, 학교, 마한, 학생, 집, 선, 말, 선생, 동무, 서넛, 놓고, ...</td>\n",
       "      <td>6</td>\n",
       "    </tr>\n",
       "    <tr>\n",
       "      <th>1</th>\n",
       "      <td>노래, 짓밟힌, 무리, 흘린, 핏, 방울, 방울, 이지, 심, 흘러, 흘러, 폭발,...</td>\n",
       "      <td>9</td>\n",
       "    </tr>\n",
       "    <tr>\n",
       "      <th>2</th>\n",
       "      <td>깨끗한, 서나, 몸부림, 쳐도, 소용, 없다, 공간, 들려오는, 공포, 소리, 좁은...</td>\n",
       "      <td>12</td>\n",
       "    </tr>\n",
       "    <tr>\n",
       "      <th>4</th>\n",
       "      <td>찬, 새벽, 고동, 잠들은, 이을, 흔들어, 눈, 사람, 잠, 요란, 히든, 밤, ...</td>\n",
       "      <td>9</td>\n",
       "    </tr>\n",
       "    <tr>\n",
       "      <th>6</th>\n",
       "      <td>만가, 불안, 언덕, 로나, 바람, 날려, 간다, 죽, 행복, 차단, 아릴, 수, ...</td>\n",
       "      <td>14</td>\n",
       "    </tr>\n",
       "  </tbody>\n",
       "</table>\n",
       "</div>"
      ],
      "text/plain": [
       "                                                poem tag\n",
       "0  선생, 서덕출, 학교, 마한, 학생, 집, 선, 말, 선생, 동무, 서넛, 놓고, ...   6\n",
       "1  노래, 짓밟힌, 무리, 흘린, 핏, 방울, 방울, 이지, 심, 흘러, 흘러, 폭발,...   9\n",
       "2  깨끗한, 서나, 몸부림, 쳐도, 소용, 없다, 공간, 들려오는, 공포, 소리, 좁은...  12\n",
       "4  찬, 새벽, 고동, 잠들은, 이을, 흔들어, 눈, 사람, 잠, 요란, 히든, 밤, ...   9\n",
       "6  만가, 불안, 언덕, 로나, 바람, 날려, 간다, 죽, 행복, 차단, 아릴, 수, ...  14"
      ]
     },
     "execution_count": 5,
     "metadata": {},
     "output_type": "execute_result"
    }
   ],
   "source": [
    "#2\n",
    "#DataFrame으로 변환(머신러닝 전 데이터 분석용)\n",
    "poems_tokens = []\n",
    "for poem in poems_token:\n",
    "    poems_tokens.append(str(poem).replace(\"[\",\"\").replace(\"]\",\"\").replace(\"'\",\"\"))\n",
    "\n",
    "poem_tag = pd.DataFrame(poems_tokens, columns = ['poem'])\n",
    "poem_tag['tag'] = pd.Series(poems_tag)\n",
    "poem_tag.dropna(axis=0, inplace=True) #태그 없는 데이터 제거\n",
    "\n",
    "poem_tag[:5]"
   ]
  },
  {
   "cell_type": "code",
   "execution_count": 6,
   "metadata": {},
   "outputs": [
    {
     "name": "stdout",
     "output_type": "stream",
     "text": [
      "<class 'pandas.core.frame.DataFrame'>\n",
      "Int64Index: 468 entries, 0 to 4864\n",
      "Data columns (total 2 columns):\n",
      " #   Column  Non-Null Count  Dtype \n",
      "---  ------  --------------  ----- \n",
      " 0   poem    468 non-null    object\n",
      " 1   tag     468 non-null    object\n",
      "dtypes: object(2)\n",
      "memory usage: 11.0+ KB\n"
     ]
    }
   ],
   "source": [
    "poem_tag.info()"
   ]
  },
  {
   "cell_type": "code",
   "execution_count": 7,
   "metadata": {},
   "outputs": [
    {
     "name": "stdout",
     "output_type": "stream",
     "text": [
      "중복을 제외한 샘플 수 : 468\n",
      "중복을 제외한 주제의 수 : 17\n"
     ]
    }
   ],
   "source": [
    "print('중복을 제외한 샘플 수 : {}'.format(poem_tag['poem'].nunique()))\n",
    "print('중복을 제외한 주제의 수 : {}'.format(poem_tag['tag'].nunique()))"
   ]
  },
  {
   "cell_type": "code",
   "execution_count": 8,
   "metadata": {},
   "outputs": [
    {
     "data": {
      "text/plain": [
       "<AxesSubplot:>"
      ]
     },
     "execution_count": 8,
     "metadata": {},
     "output_type": "execute_result"
    },
    {
     "data": {
      "image/png": "[encoded data removed]",
      "text/plain": [
       "<Figure size 432x288 with 1 Axes>"
      ]
     },
     "metadata": {
      "needs_background": "light"
     },
     "output_type": "display_data"
    }
   ],
   "source": [
    "poem_tag['tag'].value_counts().plot(kind='bar')"
   ]
  },
  {
   "cell_type": "code",
   "execution_count": 9,
   "metadata": {},
   "outputs": [
    {
     "data": {
      "text/plain": [
       "8     70\n",
       "10    34\n",
       "12    32\n",
       "4     30\n",
       "7     29\n",
       "0     29\n",
       "6     28\n",
       "16    28\n",
       "2     27\n",
       "3     22\n",
       "11    21\n",
       "13    21\n",
       "5     21\n",
       "14    20\n",
       "1     20\n",
       "9     19\n",
       "15    17\n",
       "Name: tag, dtype: int64"
      ]
     },
     "execution_count": 9,
     "metadata": {},
     "output_type": "execute_result"
    }
   ],
   "source": [
    "poem_tag['tag'].value_counts()"
   ]
  },
  {
   "cell_type": "code",
   "execution_count": 10,
   "metadata": {},
   "outputs": [
    {
     "data": {
      "text/plain": [
       "0    선생, 서덕출, 학교, 마한, 학생, 집, 선, 말, 선생, 동무, 서넛, 놓고, ...\n",
       "1    노래, 짓밟힌, 무리, 흘린, 핏, 방울, 방울, 이지, 심, 흘러, 흘러, 폭발,...\n",
       "2    깨끗한, 서나, 몸부림, 쳐도, 소용, 없다, 공간, 들려오는, 공포, 소리, 좁은...\n",
       "4    찬, 새벽, 고동, 잠들은, 이을, 흔들어, 눈, 사람, 잠, 요란, 히든, 밤, ...\n",
       "6    만가, 불안, 언덕, 로나, 바람, 날려, 간다, 죽, 행복, 차단, 아릴, 수, ...\n",
       "Name: poem, dtype: object"
      ]
     },
     "execution_count": 10,
     "metadata": {},
     "output_type": "execute_result"
    }
   ],
   "source": [
    "poem_tag['poem'].iloc[0:5] "
   ]
  },
  {
   "cell_type": "code",
   "execution_count": 24,
   "metadata": {},
   "outputs": [
    {
     "data": {
      "text/html": [
       "<div>\n",
       "<style scoped>\n",
       "    .dataframe tbody tr th:only-of-type {\n",
       "        vertical-align: middle;\n",
       "    }\n",
       "\n",
       "    .dataframe tbody tr th {\n",
       "        vertical-align: top;\n",
       "    }\n",
       "\n",
       "    .dataframe thead th {\n",
       "        text-align: right;\n",
       "    }\n",
       "</style>\n",
       "<table border=\"1\" class=\"dataframe\">\n",
       "  <thead>\n",
       "    <tr style=\"text-align: right;\">\n",
       "      <th></th>\n",
       "      <th>poem</th>\n",
       "      <th>tag</th>\n",
       "    </tr>\n",
       "  </thead>\n",
       "  <tbody>\n",
       "    <tr>\n",
       "      <th>0</th>\n",
       "      <td>선생, 서덕출, 학교, 마한, 학생, 집, 선, 말, 선생, 동무, 서넛, 놓고, ...</td>\n",
       "      <td>6</td>\n",
       "    </tr>\n",
       "    <tr>\n",
       "      <th>1</th>\n",
       "      <td>노래, 짓밟힌, 무리, 흘린, 핏, 방울, 방울, 이지, 심, 흘러, 흘러, 폭발,...</td>\n",
       "      <td>9</td>\n",
       "    </tr>\n",
       "    <tr>\n",
       "      <th>2</th>\n",
       "      <td>깨끗한, 서나, 몸부림, 쳐도, 소용, 없다, 공간, 들려오는, 공포, 소리, 좁은...</td>\n",
       "      <td>12</td>\n",
       "    </tr>\n",
       "    <tr>\n",
       "      <th>4</th>\n",
       "      <td>찬, 새벽, 고동, 잠들은, 이을, 흔들어, 눈, 사람, 잠, 요란, 히든, 밤, ...</td>\n",
       "      <td>9</td>\n",
       "    </tr>\n",
       "    <tr>\n",
       "      <th>6</th>\n",
       "      <td>만가, 불안, 언덕, 로나, 바람, 날려, 간다, 죽, 행복, 차단, 아릴, 수, ...</td>\n",
       "      <td>14</td>\n",
       "    </tr>\n",
       "  </tbody>\n",
       "</table>\n",
       "</div>"
      ],
      "text/plain": [
       "                                                poem tag\n",
       "0  선생, 서덕출, 학교, 마한, 학생, 집, 선, 말, 선생, 동무, 서넛, 놓고, ...   6\n",
       "1  노래, 짓밟힌, 무리, 흘린, 핏, 방울, 방울, 이지, 심, 흘러, 흘러, 폭발,...   9\n",
       "2  깨끗한, 서나, 몸부림, 쳐도, 소용, 없다, 공간, 들려오는, 공포, 소리, 좁은...  12\n",
       "4  찬, 새벽, 고동, 잠들은, 이을, 흔들어, 눈, 사람, 잠, 요란, 히든, 밤, ...   9\n",
       "6  만가, 불안, 언덕, 로나, 바람, 날려, 간다, 죽, 행복, 차단, 아릴, 수, ...  14"
      ]
     },
     "execution_count": 24,
     "metadata": {},
     "output_type": "execute_result"
    }
   ],
   "source": [
    "#3.1\n",
    "#유효 데이터 분리 후 훈련 데이터 / 테스트 데이터 분류\n",
    "train_poem = poem_tag['poem'].iloc[0:401]\n",
    "train_tag = poem_tag['tag'].iloc[0:401]\n",
    "test_poem = poem_tag['poem'].iloc[401:468]\n",
    "test_tag = poem_tag['tag'].iloc[401:469]\n",
    "\n",
    "max_words = 7000 #max_words: 사용할 단어 최대 개수(빈도순, 전체 단어 약 17000개)\n",
    "num_tag = 17\n",
    "\n",
    "poem_tag[:5]"
   ]
  },
  {
   "cell_type": "code",
   "execution_count": 26,
   "metadata": {
    "scrolled": true
   },
   "outputs": [
    {
     "data": {
      "text/plain": [
       "Int64Index([401, 402, 403, 404, 405, 406, 407, 408, 409, 410, 411, 412, 413,\n",
       "            414, 415, 416, 417, 418, 419, 420, 421, 422, 423, 424, 425, 426,\n",
       "            427, 428, 429, 430, 431, 432, 433, 434, 435, 436, 437, 438, 439,\n",
       "            440, 441, 442, 443, 444, 445, 446, 447, 448, 449, 450, 451, 452,\n",
       "            453, 454, 455, 456, 457, 458, 459, 460, 461, 462, 463, 464, 465,\n",
       "            466, 467],\n",
       "           dtype='int64')"
      ]
     },
     "execution_count": 26,
     "metadata": {},
     "output_type": "execute_result"
    }
   ],
   "source": [
    "a = test_tag.index\n",
    "a"
   ]
  },
  {
   "cell_type": "code",
   "execution_count": 25,
   "metadata": {
    "scrolled": false
   },
   "outputs": [
    {
     "name": "stdout",
     "output_type": "stream",
     "text": [
      "훈련 샘플 본문의 크기 : (401, 7000)\n",
      "훈련 샘플 레이블의 크기 : (401, 17)\n",
      "테스트 샘플 본문의 크기 : (67, 7000)\n",
      "테스트 샘플 레이블의 크기 : (67, 17)\n",
      "빈도수 상위 1위 단어 : 내\n",
      "빈도수 상위 1위 단어 : 닯\n"
     ]
    }
   ],
   "source": [
    "#3.2\n",
    "#케라스 토크나이저로 DTM 생성(4가지 모드 사용 가능)\n",
    "def prepare_data(train_data, test_data, mode):\n",
    "    t = Tokenizer(num_words = max_words)\n",
    "    t.fit_on_texts(train_data)\n",
    "    X_train = t.texts_to_matrix(train_data, mode=mode)\n",
    "    X_test = t.texts_to_matrix(test_data, mode=mode)\n",
    "    \n",
    "    return X_train, X_test, t.index_word, mode\n",
    "\n",
    "modes = ['binary', 'count', 'tfidf', 'freq']\n",
    "\n",
    "X_train, X_test, index_to_word, mode = prepare_data(train_poem, test_poem, modes[0])\n",
    "y_train = to_categorical(train_tag, num_tag)\n",
    "y_test = to_categorical(test_tag, num_tag)\n",
    "\n",
    "print('훈련 샘플 본문의 크기 : {}'.format(X_train.shape))\n",
    "print('훈련 샘플 레이블의 크기 : {}'.format(y_train.shape))\n",
    "print('테스트 샘플 본문의 크기 : {}'.format(X_test.shape))\n",
    "print('테스트 샘플 레이블의 크기 : {}'.format(y_test.shape))\n",
    "print(\"빈도수 상위 1위 단어 : {}\" .format(index_to_word[1]))\n",
    "print(\"빈도수 상위 1위 단어 : {}\" .format(index_to_word[max_words-1]))"
   ]
  },
  {
   "cell_type": "code",
   "execution_count": 35,
   "metadata": {},
   "outputs": [
    {
     "data": {
      "text/plain": [
       "array([0., 0., 0., 0., 0., 0., 1., 0., 0., 0., 0., 0., 0., 0., 0., 0., 0.],\n",
       "      dtype=float32)"
      ]
     },
     "execution_count": 35,
     "metadata": {},
     "output_type": "execute_result"
    }
   ],
   "source": [
    "y_train[0]"
   ]
  },
  {
   "cell_type": "code",
   "execution_count": 37,
   "metadata": {},
   "outputs": [
    {
     "data": {
      "text/plain": [
       "array([[0., 0., 0., ..., 0., 0., 0.],\n",
       "       [0., 0., 0., ..., 0., 0., 0.],\n",
       "       [0., 0., 0., ..., 0., 0., 0.],\n",
       "       ...,\n",
       "       [0., 0., 0., ..., 0., 0., 0.],\n",
       "       [0., 0., 0., ..., 0., 0., 0.],\n",
       "       [0., 0., 0., ..., 0., 0., 0.]], dtype=float32)"
      ]
     },
     "execution_count": 37,
     "metadata": {},
     "output_type": "execute_result"
    }
   ],
   "source": [
    "y_train"
   ]
  },
  {
   "cell_type": "code",
   "execution_count": 36,
   "metadata": {},
   "outputs": [
    {
     "data": {
      "text/plain": [
       "(17,)"
      ]
     },
     "execution_count": 36,
     "metadata": {},
     "output_type": "execute_result"
    }
   ],
   "source": [
    "y_train[0].shape"
   ]
  },
  {
   "cell_type": "code",
   "execution_count": 32,
   "metadata": {},
   "outputs": [
    {
     "data": {
      "text/plain": [
       "numpy.ndarray"
      ]
     },
     "execution_count": 32,
     "metadata": {},
     "output_type": "execute_result"
    }
   ],
   "source": [
    "type(y_train)"
   ]
  },
  {
   "cell_type": "code",
   "execution_count": 21,
   "metadata": {},
   "outputs": [
    {
     "name": "stdout",
     "output_type": "stream",
     "text": [
      "Train on 360 samples, validate on 41 samples\n",
      "Epoch 1/50\n",
      "360/360 [==============================] - 1s 1ms/sample - loss: 2.8305 - accuracy: 0.0667 - val_loss: 2.8084 - val_accuracy: 0.1220\n",
      "Epoch 2/50\n",
      "360/360 [==============================] - 0s 256us/sample - loss: 2.6365 - accuracy: 0.3111 - val_loss: 2.7815 - val_accuracy: 0.1220\n",
      "Epoch 3/50\n",
      "360/360 [==============================] - 0s 231us/sample - loss: 2.4495 - accuracy: 0.4750 - val_loss: 2.7567 - val_accuracy: 0.1220\n",
      "Epoch 4/50\n",
      "360/360 [==============================] - 0s 236us/sample - loss: 2.2516 - accuracy: 0.6000 - val_loss: 2.7333 - val_accuracy: 0.1220\n",
      "Epoch 5/50\n",
      "360/360 [==============================] - 0s 248us/sample - loss: 2.0670 - accuracy: 0.7167 - val_loss: 2.7141 - val_accuracy: 0.1463\n",
      "Epoch 6/50\n",
      "360/360 [==============================] - 0s 258us/sample - loss: 1.9011 - accuracy: 0.7500 - val_loss: 2.6992 - val_accuracy: 0.1463\n",
      "Epoch 7/50\n",
      "360/360 [==============================] - 0s 222us/sample - loss: 1.7474 - accuracy: 0.8056 - val_loss: 2.6865 - val_accuracy: 0.1463\n",
      "Epoch 8/50\n",
      "360/360 [==============================] - 0s 273us/sample - loss: 1.5972 - accuracy: 0.8611 - val_loss: 2.6765 - val_accuracy: 0.1463\n",
      "Epoch 9/50\n",
      "360/360 [==============================] - 0s 232us/sample - loss: 1.4307 - accuracy: 0.9139 - val_loss: 2.6681 - val_accuracy: 0.1463\n",
      "Epoch 10/50\n",
      "360/360 [==============================] - 0s 261us/sample - loss: 1.2899 - accuracy: 0.9222 - val_loss: 2.6606 - val_accuracy: 0.1463\n",
      "Epoch 11/50\n",
      "360/360 [==============================] - 0s 247us/sample - loss: 1.1500 - accuracy: 0.9639 - val_loss: 2.6523 - val_accuracy: 0.1707\n",
      "Epoch 12/50\n",
      "360/360 [==============================] - 0s 275us/sample - loss: 1.0284 - accuracy: 0.9694 - val_loss: 2.6437 - val_accuracy: 0.1463\n",
      "Epoch 13/50\n",
      "360/360 [==============================] - 0s 279us/sample - loss: 0.9182 - accuracy: 0.9750 - val_loss: 2.6337 - val_accuracy: 0.1463\n",
      "Epoch 14/50\n",
      "360/360 [==============================] - 0s 239us/sample - loss: 0.8053 - accuracy: 0.9889 - val_loss: 2.6271 - val_accuracy: 0.1463\n",
      "Epoch 15/50\n",
      "360/360 [==============================] - 0s 243us/sample - loss: 0.7220 - accuracy: 0.9944 - val_loss: 2.6196 - val_accuracy: 0.1463\n",
      "Epoch 16/50\n",
      "360/360 [==============================] - 0s 232us/sample - loss: 0.6447 - accuracy: 0.9889 - val_loss: 2.6112 - val_accuracy: 0.1463\n",
      "Epoch 17/50\n",
      "360/360 [==============================] - 0s 232us/sample - loss: 0.5694 - accuracy: 0.9972 - val_loss: 2.6024 - val_accuracy: 0.1220\n",
      "Epoch 18/50\n",
      "360/360 [==============================] - 0s 234us/sample - loss: 0.5046 - accuracy: 0.9972 - val_loss: 2.5948 - val_accuracy: 0.1220\n",
      "Epoch 19/50\n",
      "360/360 [==============================] - 0s 233us/sample - loss: 0.4410 - accuracy: 0.9972 - val_loss: 2.5868 - val_accuracy: 0.1220\n",
      "Epoch 20/50\n",
      "360/360 [==============================] - 0s 250us/sample - loss: 0.4019 - accuracy: 0.9944 - val_loss: 2.5791 - val_accuracy: 0.1463\n",
      "Epoch 21/50\n",
      "360/360 [==============================] - 0s 258us/sample - loss: 0.3403 - accuracy: 0.9972 - val_loss: 2.5719 - val_accuracy: 0.1463\n",
      "Epoch 22/50\n",
      "360/360 [==============================] - 0s 238us/sample - loss: 0.3156 - accuracy: 1.0000 - val_loss: 2.5651 - val_accuracy: 0.1707\n",
      "Epoch 23/50\n",
      "360/360 [==============================] - 0s 235us/sample - loss: 0.2695 - accuracy: 1.0000 - val_loss: 2.5600 - val_accuracy: 0.1707\n",
      "Epoch 24/50\n",
      "360/360 [==============================] - 0s 257us/sample - loss: 0.2477 - accuracy: 1.0000 - val_loss: 2.5564 - val_accuracy: 0.1707\n",
      "Epoch 25/50\n",
      "360/360 [==============================] - 0s 235us/sample - loss: 0.2315 - accuracy: 1.0000 - val_loss: 2.5534 - val_accuracy: 0.1707\n",
      "Epoch 26/50\n",
      "360/360 [==============================] - 0s 244us/sample - loss: 0.2089 - accuracy: 1.0000 - val_loss: 2.5513 - val_accuracy: 0.1707\n",
      "Epoch 27/50\n",
      "360/360 [==============================] - 0s 242us/sample - loss: 0.1752 - accuracy: 1.0000 - val_loss: 2.5508 - val_accuracy: 0.1707\n",
      "Epoch 28/50\n",
      "360/360 [==============================] - 0s 242us/sample - loss: 0.1602 - accuracy: 1.0000 - val_loss: 2.5495 - val_accuracy: 0.1707\n",
      "Epoch 29/50\n",
      "360/360 [==============================] - 0s 223us/sample - loss: 0.1572 - accuracy: 1.0000 - val_loss: 2.5478 - val_accuracy: 0.1707\n",
      "Epoch 30/50\n",
      "360/360 [==============================] - 0s 267us/sample - loss: 0.1308 - accuracy: 1.0000 - val_loss: 2.5469 - val_accuracy: 0.1951\n",
      "Epoch 31/50\n",
      "360/360 [==============================] - 0s 247us/sample - loss: 0.1293 - accuracy: 1.0000 - val_loss: 2.5462 - val_accuracy: 0.1951\n",
      "Epoch 32/50\n",
      "360/360 [==============================] - 0s 247us/sample - loss: 0.1047 - accuracy: 1.0000 - val_loss: 2.5462 - val_accuracy: 0.1951\n",
      "Epoch 33/50\n",
      "360/360 [==============================] - 0s 246us/sample - loss: 0.0998 - accuracy: 1.0000 - val_loss: 2.5460 - val_accuracy: 0.1951\n",
      "Epoch 34/50\n",
      "360/360 [==============================] - 0s 239us/sample - loss: 0.0924 - accuracy: 1.0000 - val_loss: 2.5464 - val_accuracy: 0.1951\n",
      "Epoch 35/50\n",
      "360/360 [==============================] - 0s 253us/sample - loss: 0.0824 - accuracy: 1.0000 - val_loss: 2.5468 - val_accuracy: 0.1951\n",
      "Epoch 36/50\n",
      "360/360 [==============================] - 0s 265us/sample - loss: 0.0924 - accuracy: 1.0000 - val_loss: 2.5477 - val_accuracy: 0.1951\n",
      "Epoch 37/50\n",
      "360/360 [==============================] - 0s 229us/sample - loss: 0.0690 - accuracy: 1.0000 - val_loss: 2.5480 - val_accuracy: 0.1951\n",
      "Epoch 38/50\n",
      "360/360 [==============================] - 0s 225us/sample - loss: 0.0667 - accuracy: 1.0000 - val_loss: 2.5478 - val_accuracy: 0.1951\n",
      "Epoch 39/50\n",
      "360/360 [==============================] - 0s 231us/sample - loss: 0.0699 - accuracy: 1.0000 - val_loss: 2.5492 - val_accuracy: 0.1951\n",
      "Epoch 40/50\n",
      "360/360 [==============================] - 0s 255us/sample - loss: 0.0600 - accuracy: 1.0000 - val_loss: 2.5510 - val_accuracy: 0.1951\n",
      "Epoch 41/50\n",
      "360/360 [==============================] - 0s 244us/sample - loss: 0.0507 - accuracy: 1.0000 - val_loss: 2.5529 - val_accuracy: 0.1951\n",
      "Epoch 42/50\n",
      "360/360 [==============================] - 0s 230us/sample - loss: 0.0520 - accuracy: 1.0000 - val_loss: 2.5542 - val_accuracy: 0.1951\n",
      "Epoch 43/50\n",
      "360/360 [==============================] - 0s 247us/sample - loss: 0.0451 - accuracy: 1.0000 - val_loss: 2.5560 - val_accuracy: 0.1951\n",
      "Epoch 44/50\n",
      "360/360 [==============================] - 0s 249us/sample - loss: 0.0435 - accuracy: 1.0000 - val_loss: 2.5579 - val_accuracy: 0.1951\n",
      "Epoch 45/50\n",
      "360/360 [==============================] - 0s 261us/sample - loss: 0.0497 - accuracy: 1.0000 - val_loss: 2.5608 - val_accuracy: 0.1951\n",
      "Epoch 46/50\n",
      "360/360 [==============================] - 0s 225us/sample - loss: 0.0396 - accuracy: 1.0000 - val_loss: 2.5624 - val_accuracy: 0.1951\n",
      "Epoch 47/50\n",
      "360/360 [==============================] - 0s 268us/sample - loss: 0.0384 - accuracy: 1.0000 - val_loss: 2.5635 - val_accuracy: 0.1951\n",
      "Epoch 48/50\n",
      "360/360 [==============================] - 0s 311us/sample - loss: 0.0442 - accuracy: 1.0000 - val_loss: 2.5654 - val_accuracy: 0.1951\n",
      "Epoch 49/50\n",
      "360/360 [==============================] - 0s 256us/sample - loss: 0.0388 - accuracy: 1.0000 - val_loss: 2.5675 - val_accuracy: 0.1951\n",
      "Epoch 50/50\n",
      "360/360 [==============================] - 0s 281us/sample - loss: 0.0356 - accuracy: 1.0000 - val_loss: 2.5693 - val_accuracy: 0.1951\n",
      "binary모드의 테스트 정확도: 0.05970149\n"
     ]
    }
   ],
   "source": [
    "#4.1\n",
    "#MLP 모델 설계 + 학습 + 자체평가\n",
    "from tensorflow.keras.models import Sequential\n",
    "from tensorflow.keras.layers import Dense, Dropout\n",
    "\n",
    "model = Sequential() \n",
    "model.add(Dense(128, input_shape=(max_words,), activation='relu'))\n",
    "model.add(Dropout(0.5)) #과적합 방지\n",
    "#model.add(Dense(32, activation='relu'))\n",
    "#model.add(Dropout(0.5))\n",
    "#modle.add(Dense()) 후에 적절한 층 추가해서 DNN로 변환(딥러닝)\n",
    "model.add(Dense(num_tag, activation='softmax'))\n",
    "\n",
    "model.compile(loss='categorical_crossentropy', optimizer='adam', metrics=['accuracy'])\n",
    "model.fit(X_train, y_train, batch_size=128, epochs=50, verbose=1, validation_split=0.1)\n",
    "\n",
    "score = model.evaluate(X_test, y_test, batch_size=128, verbose=0)\n",
    "\n",
    "print(mode+\"모드의 테스트 정확도:\", score[1])"
   ]
  },
  {
   "cell_type": "code",
   "execution_count": null,
   "metadata": {},
   "outputs": [],
   "source": []
  },
  {
   "cell_type": "code",
   "execution_count": 22,
   "metadata": {},
   "outputs": [
    {
     "data": {
      "text/plain": [
       "array([0.10920485, 0.01998959, 0.01712158, 0.01334469, 0.04607554,\n",
       "       0.01176431, 0.04360112, 0.01264667, 0.11799812, 0.01236814,\n",
       "       0.11911298, 0.06142206, 0.2825328 , 0.0345719 , 0.04209147,\n",
       "       0.01042603, 0.04572814], dtype=float32)"
      ]
     },
     "execution_count": 22,
     "metadata": {},
     "output_type": "execute_result"
    }
   ],
   "source": [
    "#4.2\n",
    "#모델 평가(새로운 데이터로)\n",
    "\n",
    "#Softmax Regression(Practice)문서 참조\n",
    "arr = model.predict(X_test, batch_size=1)\n",
    "arr[1]"
   ]
  },
  {
   "cell_type": "code",
   "execution_count": 17,
   "metadata": {
    "scrolled": true
   },
   "outputs": [
    {
     "data": {
      "text/plain": [
       "2498    산, 봄, 산, 서사, 노, 픠, 잇네, 산, 서우, 적은, 새, 요산, 지네, 치...\n",
       "2499    산, 표정, 인자, 요산, 니지, 인자, 산, 유, 달리, 좋아한다, 런, 이유, ...\n",
       "2543    삼일, 어젯날, 어머니, 옷, 음식, 갖, 다주, 즐겁게, 웃음, 늘, 몸, 떨며,...\n",
       "2563    상쾌, 아침, 무연, 벌, 놓은, 집, 또는, 밤새, 왔는지, 아지, 비친, 개지,...\n",
       "2614    생, 길이, 그리, 한밤, 자고, 눈가, 젖었, 울었, 인생, 티끌, 허무인, 내,...\n",
       "                              ...                        \n",
       "4808    황소, 윤곤강, 바보, 미련, 둥이, 꿀꺽, 참고, 우는, 나치, 성미, 착한, 탓...\n",
       "4835       휘장, 부르, 안, 꽃, 소녀, 당사, 수, 놓을, 바람, 가만, 가만히, 봤, 소\n",
       "4851    희망, 꽃술, 바람, 숲, 사뭇, 짖, 습, 대가, 오신, 기별, 아치, 맛, 자락...\n",
       "4852    희망, 꼬, 부러, 진, 소나무, 꽃, 훨쩍, 피었다, 붉은, 아침, 오른, 살찐,...\n",
       "4864    흰, 구, 름, 가을, 대공, 흰, 구름, 천리만리, 흰, 구름, 산, 넘고, 강,...\n",
       "Name: poem, Length: 67, dtype: object"
      ]
     },
     "execution_count": 17,
     "metadata": {},
     "output_type": "execute_result"
    }
   ],
   "source": [
    "test_poem"
   ]
  },
  {
   "cell_type": "code",
   "execution_count": 34,
   "metadata": {},
   "outputs": [
    {
     "data": {
      "text/plain": [
       "'경, 인제, 송이, 올케, 왔, 객, 해하, 얼골, 보소, 마음, 무, 함, 돌혀, 무참, 할시고, 남, 하얏, 그림자, 밤, 살, 지니, 인제, 살, 먹어, 짐, 앙탈, 오해, 세, 쇠, 날, 내년, 하지, 그해, 나하, 본적, 인제, 머리털, 세, 이러, 할시, 고가, 소서, 소서, 밤, 소서, 겨레, 나라, 싹싹, 씨, 소서, 업, 새는, 밤, 일가, 라이, 소원, 스리, 오물, 들고, 더러, 국, 씨, 쳐서, 업도, 록, 하게, 합세, 닙, 은동, 무, 손, 잡고, 오락가락, 말굽, 밋헤, 밟히는, 서울, 서얼, 경황, 잇다, 리오, 서울, 명, 전국, 치면, 천만, 상이, 피난민, 오늘, 모양, 일가, 술, 업다, 국, 업다, 말, 오이, 생각, 생각, 밤, 몰랏, 슬사, 긴, 한숨, 휘, 쉬, 미, 다지, 열, 쓸쓸히, 개인, 하늘, 별도, 총총, 라일, 구, 오일, 일월, 미, 발표'"
      ]
     },
     "execution_count": 34,
     "metadata": {},
     "output_type": "execute_result"
    }
   ],
   "source": [
    "test_poem[test_poem.index[4]]"
   ]
  },
  {
   "cell_type": "code",
   "execution_count": null,
   "metadata": {},
   "outputs": [],
   "source": []
  }
 ],
 "metadata": {
  "kernelspec": {
   "display_name": "Python 3",
   "language": "python",
   "name": "python3"
  },
  "language_info": {
   "codemirror_mode": {
    "name": "ipython",
    "version": 3
   },
   "file_extension": ".py",
   "mimetype": "text/x-python",
   "name": "python",
   "nbconvert_exporter": "python",
   "pygments_lexer": "ipython3",
   "version": "3.7.4"
  }
 },
 "nbformat": 4,
 "nbformat_minor": 2
}
